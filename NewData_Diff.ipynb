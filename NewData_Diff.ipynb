{
 "cells": [
  {
   "cell_type": "code",
   "execution_count": 1,
   "metadata": {
    "colab": {},
    "colab_type": "code",
    "id": "1fVZ8KMO2ky2"
   },
   "outputs": [],
   "source": [
    "import gzip\n",
    "import numpy as np"
   ]
  },
  {
   "cell_type": "code",
   "execution_count": 3,
   "metadata": {
    "colab": {
     "base_uri": "https://localhost:8080/",
     "height": 52
    },
    "colab_type": "code",
    "id": "GXCwsGxqAUK0",
    "outputId": "17556ef3-c9e2-42f7-ac66-9aa5256a68e0"
   },
   "outputs": [
    {
     "name": "stdout",
     "output_type": "stream",
     "text": [
      "Requirement already satisfied: biopython in c:\\users\\panyu\\anaconda3\\lib\\site-packages (1.76)\n",
      "Requirement already satisfied: numpy in c:\\users\\panyu\\anaconda3\\lib\\site-packages (from biopython) (1.16.2)\n"
     ]
    }
   ],
   "source": [
    "!pip install biopython\n",
    "import Bio"
   ]
  },
  {
   "cell_type": "code",
   "execution_count": 81,
   "metadata": {
    "colab": {},
    "colab_type": "code",
    "id": "VaL8E135C4WN"
   },
   "outputs": [],
   "source": [
    "fname = \"D:\\C1_diff_peaks.np.gz\""
   ]
  },
  {
   "cell_type": "code",
   "execution_count": 82,
   "metadata": {
    "colab": {},
    "colab_type": "code",
    "id": "cQleNVyyUTbx"
   },
   "outputs": [],
   "source": [
    "fid = gzip.open(fname, 'rt')\n",
    "c1_chr1_start = []\n",
    "c1_chr1_end = []\n",
    "for line in fid:\n",
    "    line= line.strip('\\n').split('\\t')\n",
    "    if line[0] == 'chr1':\n",
    "        c1_chr1_start.append(int(line[1]))\n",
    "        c1_chr1_end.append(int(line[2]))"
   ]
  },
  {
   "cell_type": "code",
   "execution_count": 83,
   "metadata": {
    "colab": {
     "base_uri": "https://localhost:8080/",
     "height": 35
    },
    "colab_type": "code",
    "id": "MBQ3je0Natek",
    "outputId": "d255b97a-b5a7-4b63-bdbd-4f014e90be06"
   },
   "outputs": [
    {
     "data": {
      "text/plain": [
       "1252"
      ]
     },
     "execution_count": 83,
     "metadata": {},
     "output_type": "execute_result"
    }
   ],
   "source": [
    "len(c1_chr1_start)"
   ]
  },
  {
   "cell_type": "code",
   "execution_count": 84,
   "metadata": {
    "colab": {},
    "colab_type": "code",
    "id": "wDv0BhXGdwJa"
   },
   "outputs": [],
   "source": [
    "fname = \"D:\\C2_diff_peaks.np.gz\""
   ]
  },
  {
   "cell_type": "code",
   "execution_count": 85,
   "metadata": {
    "colab": {},
    "colab_type": "code",
    "id": "YkLzlEfteOu6"
   },
   "outputs": [],
   "source": [
    "fid = gzip.open(fname, 'rt')\n",
    "c2_chr1_start = []\n",
    "c2_chr1_end = []\n",
    "for line in fid:\n",
    "    line = line.strip('\\n').split('\\t')\n",
    "    if line[0] == 'chr1':\n",
    "        c2_chr1_start.append(int(line[1]))\n",
    "        c2_chr1_end.append(int(line[2]))"
   ]
  },
  {
   "cell_type": "code",
   "execution_count": 86,
   "metadata": {
    "colab": {
     "base_uri": "https://localhost:8080/",
     "height": 35
    },
    "colab_type": "code",
    "id": "9iQjEXAaefBT",
    "outputId": "e6e5b5d8-7146-45d4-b4f9-76960d38c692"
   },
   "outputs": [
    {
     "data": {
      "text/plain": [
       "((42669917, 42670417), (15457549, 15458049))"
      ]
     },
     "execution_count": 86,
     "metadata": {},
     "output_type": "execute_result"
    }
   ],
   "source": [
    "(c1_chr1_start[0], c1_chr1_end[0]), (c2_chr1_start[0], c2_chr1_end[0])"
   ]
  },
  {
   "cell_type": "code",
   "execution_count": 87,
   "metadata": {
    "colab": {
     "base_uri": "https://localhost:8080/",
     "height": 35
    },
    "colab_type": "code",
    "id": "kXL3RHuYi8xO",
    "outputId": "fb71815c-3113-4e57-909f-ad8826a21260"
   },
   "outputs": [
    {
     "data": {
      "text/plain": [
       "(1252, 735)"
      ]
     },
     "execution_count": 87,
     "metadata": {},
     "output_type": "execute_result"
    }
   ],
   "source": [
    "len(c1_chr1_start), len(c2_chr1_start)"
   ]
  },
  {
   "cell_type": "code",
   "execution_count": 26,
   "metadata": {
    "colab": {},
    "colab_type": "code",
    "id": "-v7cbmrKet_Q"
   },
   "outputs": [],
   "source": [
    "from Bio import SeqIO\n",
    "for seq_record in SeqIO.parse('D:\\GRCh38.primary_assembly.genome.fa', 'fasta'):\n",
    "    if (seq_record.id == 'chr1'):\n",
    "        my_seq_id = seq_record.id\n",
    "        my_seq = (seq_record.seq)\n",
    "        my_seq_len = len(seq_record)\n",
    "        break"
   ]
  },
  {
   "cell_type": "code",
   "execution_count": 27,
   "metadata": {
    "colab": {
     "base_uri": "https://localhost:8080/",
     "height": 35
    },
    "colab_type": "code",
    "id": "RFokIRGgjGnD",
    "outputId": "a6b8aa02-5072-4691-d94b-94a0b8ca5a3c"
   },
   "outputs": [
    {
     "data": {
      "text/plain": [
       "'chr1'"
      ]
     },
     "execution_count": 27,
     "metadata": {},
     "output_type": "execute_result"
    }
   ],
   "source": [
    "my_seq_id"
   ]
  },
  {
   "cell_type": "code",
   "execution_count": 28,
   "metadata": {
    "colab": {
     "base_uri": "https://localhost:8080/",
     "height": 35
    },
    "colab_type": "code",
    "id": "afOAf4D2jIjN",
    "outputId": "006a27e5-0995-41ee-d197-ead7dd0d1965"
   },
   "outputs": [
    {
     "data": {
      "text/plain": [
       "Seq('NNNNNNNNNNNNNNNNNNNNNNNNNNNNNNNNNNNNNNNNNNNNNNNNNNNNNN...NNN', SingleLetterAlphabet())"
      ]
     },
     "execution_count": 28,
     "metadata": {},
     "output_type": "execute_result"
    }
   ],
   "source": [
    "my_seq"
   ]
  },
  {
   "cell_type": "code",
   "execution_count": 29,
   "metadata": {
    "colab": {
     "base_uri": "https://localhost:8080/",
     "height": 35
    },
    "colab_type": "code",
    "id": "2GHjfMAYjKsb",
    "outputId": "4f7c2df5-f56b-49f8-aeac-79db3720bf2b"
   },
   "outputs": [
    {
     "data": {
      "text/plain": [
       "248956422"
      ]
     },
     "execution_count": 29,
     "metadata": {},
     "output_type": "execute_result"
    }
   ],
   "source": [
    "my_seq_len"
   ]
  },
  {
   "cell_type": "code",
   "execution_count": 88,
   "metadata": {
    "colab": {},
    "colab_type": "code",
    "id": "AReZyuWmjOlb"
   },
   "outputs": [],
   "source": [
    "c1_chr1_seqs = []\n",
    "for start, end in zip(c1_chr1_start, c1_chr1_end):\n",
    "    c1_chr1_seqs.append(str(my_seq)[start:end])"
   ]
  },
  {
   "cell_type": "code",
   "execution_count": 89,
   "metadata": {
    "colab": {
     "base_uri": "https://localhost:8080/",
     "height": 72
    },
    "colab_type": "code",
    "id": "pLV0Kfvzj5Jm",
    "outputId": "fd548486-098f-4367-d933-ce012d3aa0f8"
   },
   "outputs": [
    {
     "data": {
      "text/plain": [
       "('TAGGACTTTTTCTTGTCTTTTTTTCCAAATGGAGATCCAGTCAAATACCTGACCATTTTAATGACTCTACAACACACCTTTATCTGTGACCAACTCTGTTCAGAAAGCTGGCACTTACAGGCATTCAGTAAAAATTTATTACATGAGTTAAGTAGAGAGGGAGAATGTCAGGCATTTTAGGCGGGGAACTCGTGTGAGCAAATGCTGAGGCTGGAATGCACAAGTGTGTGCTGAGAGCTACATGTGGACCTCTCTTGTTCAGCCAGATGATCCCTTCTCAGGCCCACTTGACACCCTGAGCTTTCCTTTCTGCCAATACTGGGTCCCCCTTGGGCCCAGCCTGCTCTCCCTCTTCAATGGCTGCTGGCCATTCCCTCCGTCTCCTACTCATTTCTTTGCTGTAACTAAAGTTGAGTTCATAGGTCCTTTCTTTTCAAAGACTGACCACTGATCACTACCAGAGGACAAACGATAACAAAAAGAATAAAGTTTAGAAATTC',\n",
       " 1252)"
      ]
     },
     "execution_count": 89,
     "metadata": {},
     "output_type": "execute_result"
    }
   ],
   "source": [
    "c1_chr1_seqs[0], len(c1_chr1_seqs)"
   ]
  },
  {
   "cell_type": "code",
   "execution_count": 90,
   "metadata": {
    "colab": {},
    "colab_type": "code",
    "id": "4MdobhCpkej9"
   },
   "outputs": [],
   "source": [
    "c2_chr1_seqs = []\n",
    "for start, end in zip(c2_chr1_start, c2_chr1_end):\n",
    "    c2_chr1_seqs.append(str(my_seq)[start:end])"
   ]
  },
  {
   "cell_type": "code",
   "execution_count": 91,
   "metadata": {
    "colab": {
     "base_uri": "https://localhost:8080/",
     "height": 72
    },
    "colab_type": "code",
    "id": "QREXCya2k2zB",
    "outputId": "bc692bdb-02f1-4412-def4-b2ae67a73540"
   },
   "outputs": [
    {
     "data": {
      "text/plain": [
       "('CAGTGAGCTGAAATTGCACCACTGTACTCCAGCCTGGGCAACAAAGCAAGACTCTGTCTCAAAAAAAAAAAAAAAGATACATTTCTGTGGCCTTGGCCAACCTTGGGAGTGGAGGGAGAGGTGCCTCCTCCAGCTGCAGTAAGGAGCTGTCCCCTCCCCACTGCCCATAGGCAGCAAATATAGTATTACTCTATTAACCAATCAGAGGCTTGTTTACAAATGTACCATCAGTCTAGGAACCATTCAAGACTACCTATGCAAACATTCCTTGCTTTAAGGAACCAATCAGTGCTATTTGCGCAGATTAATCTTTAACCACAGGCAAATCAATGTTACCAATGAAAAAAATGTTTTCTTAAGTTGATATAATCATAGTGGTATCAAGACTAAACTGCCAAGTGGGGCACAGGTGTAAATTACTCAGACGTGTTAATGGTGGGGATTTTAAGAGAAATGTGTAAAGTTTACATTGACATAAACAAATATAGTGAAATCTCATT',\n",
       " 735)"
      ]
     },
     "execution_count": 91,
     "metadata": {},
     "output_type": "execute_result"
    }
   ],
   "source": [
    "c2_chr1_seqs[0], len(c2_chr1_seqs)"
   ]
  },
  {
   "cell_type": "code",
   "execution_count": 92,
   "metadata": {
    "colab": {},
    "colab_type": "code",
    "id": "fWnmnWkhlFAS"
   },
   "outputs": [],
   "source": [
    "from numpy import array\n",
    "import warnings\n",
    "# ignore warnings\n",
    "warnings.filterwarnings(\"ignore\")"
   ]
  },
  {
   "cell_type": "code",
   "execution_count": 93,
   "metadata": {
    "colab": {},
    "colab_type": "code",
    "id": "xjbpTSxHln-S"
   },
   "outputs": [],
   "source": [
    "chr1_seqs = c1_chr1_seqs + c2_chr1_seqs\n",
    "labels = [True]* len(c1_chr1_seqs) + [False]* len(c2_chr1_seqs)"
   ]
  },
  {
   "cell_type": "code",
   "execution_count": 94,
   "metadata": {
    "colab": {},
    "colab_type": "code",
    "id": "YnuXVsLFl_u2"
   },
   "outputs": [],
   "source": [
    "import pandas as pd"
   ]
  },
  {
   "cell_type": "code",
   "execution_count": 95,
   "metadata": {
    "colab": {},
    "colab_type": "code",
    "id": "jV6KwG3cl3xG"
   },
   "outputs": [],
   "source": [
    "dna_data = pd.DataFrame({'sequences': chr1_seqs, 'label': labels})"
   ]
  },
  {
   "cell_type": "code",
   "execution_count": 96,
   "metadata": {
    "colab": {
     "base_uri": "https://localhost:8080/",
     "height": 200
    },
    "colab_type": "code",
    "id": "gBsv-8ERl6-A",
    "outputId": "5f6ca33b-1f8d-4211-d979-17ae02664f53"
   },
   "outputs": [
    {
     "data": {
      "text/html": [
       "<div>\n",
       "<style scoped>\n",
       "    .dataframe tbody tr th:only-of-type {\n",
       "        vertical-align: middle;\n",
       "    }\n",
       "\n",
       "    .dataframe tbody tr th {\n",
       "        vertical-align: top;\n",
       "    }\n",
       "\n",
       "    .dataframe thead th {\n",
       "        text-align: right;\n",
       "    }\n",
       "</style>\n",
       "<table border=\"1\" class=\"dataframe\">\n",
       "  <thead>\n",
       "    <tr style=\"text-align: right;\">\n",
       "      <th></th>\n",
       "      <th>sequences</th>\n",
       "      <th>label</th>\n",
       "    </tr>\n",
       "  </thead>\n",
       "  <tbody>\n",
       "    <tr>\n",
       "      <th>0</th>\n",
       "      <td>TAGGACTTTTTCTTGTCTTTTTTTCCAAATGGAGATCCAGTCAAAT...</td>\n",
       "      <td>True</td>\n",
       "    </tr>\n",
       "    <tr>\n",
       "      <th>1</th>\n",
       "      <td>CCAAGCCAGGAGGGGAGAATTCCACATCTGCCTCCTGGAGGGGTGT...</td>\n",
       "      <td>True</td>\n",
       "    </tr>\n",
       "    <tr>\n",
       "      <th>2</th>\n",
       "      <td>AAACGTGGAGTATGGAGCTAAGCCAAACCCACCCTTGGGTCCAAAA...</td>\n",
       "      <td>True</td>\n",
       "    </tr>\n",
       "    <tr>\n",
       "      <th>3</th>\n",
       "      <td>AAGAAATGTTTTTGTTTGTTTTTAGTCTTTCAGTCACTTGATAATA...</td>\n",
       "      <td>True</td>\n",
       "    </tr>\n",
       "    <tr>\n",
       "      <th>4</th>\n",
       "      <td>ATCTGGAACTCTAGCTGGTCCGCAAGCACGGCGCGCAGCCCCGGTT...</td>\n",
       "      <td>True</td>\n",
       "    </tr>\n",
       "  </tbody>\n",
       "</table>\n",
       "</div>"
      ],
      "text/plain": [
       "                                           sequences  label\n",
       "0  TAGGACTTTTTCTTGTCTTTTTTTCCAAATGGAGATCCAGTCAAAT...   True\n",
       "1  CCAAGCCAGGAGGGGAGAATTCCACATCTGCCTCCTGGAGGGGTGT...   True\n",
       "2  AAACGTGGAGTATGGAGCTAAGCCAAACCCACCCTTGGGTCCAAAA...   True\n",
       "3  AAGAAATGTTTTTGTTTGTTTTTAGTCTTTCAGTCACTTGATAATA...   True\n",
       "4  ATCTGGAACTCTAGCTGGTCCGCAAGCACGGCGCGCAGCCCCGGTT...   True"
      ]
     },
     "execution_count": 96,
     "metadata": {},
     "output_type": "execute_result"
    }
   ],
   "source": [
    "dna_data.head()"
   ]
  },
  {
   "cell_type": "code",
   "execution_count": 97,
   "metadata": {
    "colab": {},
    "colab_type": "code",
    "id": "QeBVMZTnmDaF"
   },
   "outputs": [],
   "source": [
    "letter_mapping = {'A': 0, 'C': 1, 'G': 2, 'T': 3}\n",
    "def label_encode(seqs):\n",
    "    return [letter_mapping[letter] for letter in seqs.strip()]"
   ]
  },
  {
   "cell_type": "code",
   "execution_count": 98,
   "metadata": {
    "colab": {
     "base_uri": "https://localhost:8080/",
     "height": 200
    },
    "colab_type": "code",
    "id": "VcDtqaB5mHHj",
    "outputId": "7492e9eb-69d0-47ac-e9c7-98d36ddf5c74"
   },
   "outputs": [
    {
     "data": {
      "text/html": [
       "<div>\n",
       "<style scoped>\n",
       "    .dataframe tbody tr th:only-of-type {\n",
       "        vertical-align: middle;\n",
       "    }\n",
       "\n",
       "    .dataframe tbody tr th {\n",
       "        vertical-align: top;\n",
       "    }\n",
       "\n",
       "    .dataframe thead th {\n",
       "        text-align: right;\n",
       "    }\n",
       "</style>\n",
       "<table border=\"1\" class=\"dataframe\">\n",
       "  <thead>\n",
       "    <tr style=\"text-align: right;\">\n",
       "      <th></th>\n",
       "      <th>sequences</th>\n",
       "      <th>label</th>\n",
       "      <th>sequence_list</th>\n",
       "    </tr>\n",
       "  </thead>\n",
       "  <tbody>\n",
       "    <tr>\n",
       "      <th>0</th>\n",
       "      <td>TAGGACTTTTTCTTGTCTTTTTTTCCAAATGGAGATCCAGTCAAAT...</td>\n",
       "      <td>True</td>\n",
       "      <td>[3, 0, 2, 2, 0, 1, 3, 3, 3, 3, 3, 1, 3, 3, 2, ...</td>\n",
       "    </tr>\n",
       "    <tr>\n",
       "      <th>1</th>\n",
       "      <td>CCAAGCCAGGAGGGGAGAATTCCACATCTGCCTCCTGGAGGGGTGT...</td>\n",
       "      <td>True</td>\n",
       "      <td>[1, 1, 0, 0, 2, 1, 1, 0, 2, 2, 0, 2, 2, 2, 2, ...</td>\n",
       "    </tr>\n",
       "    <tr>\n",
       "      <th>2</th>\n",
       "      <td>AAACGTGGAGTATGGAGCTAAGCCAAACCCACCCTTGGGTCCAAAA...</td>\n",
       "      <td>True</td>\n",
       "      <td>[0, 0, 0, 1, 2, 3, 2, 2, 0, 2, 3, 0, 3, 2, 2, ...</td>\n",
       "    </tr>\n",
       "    <tr>\n",
       "      <th>3</th>\n",
       "      <td>AAGAAATGTTTTTGTTTGTTTTTAGTCTTTCAGTCACTTGATAATA...</td>\n",
       "      <td>True</td>\n",
       "      <td>[0, 0, 2, 0, 0, 0, 3, 2, 3, 3, 3, 3, 3, 2, 3, ...</td>\n",
       "    </tr>\n",
       "    <tr>\n",
       "      <th>4</th>\n",
       "      <td>ATCTGGAACTCTAGCTGGTCCGCAAGCACGGCGCGCAGCCCCGGTT...</td>\n",
       "      <td>True</td>\n",
       "      <td>[0, 3, 1, 3, 2, 2, 0, 0, 1, 3, 1, 3, 0, 2, 1, ...</td>\n",
       "    </tr>\n",
       "  </tbody>\n",
       "</table>\n",
       "</div>"
      ],
      "text/plain": [
       "                                           sequences  label  \\\n",
       "0  TAGGACTTTTTCTTGTCTTTTTTTCCAAATGGAGATCCAGTCAAAT...   True   \n",
       "1  CCAAGCCAGGAGGGGAGAATTCCACATCTGCCTCCTGGAGGGGTGT...   True   \n",
       "2  AAACGTGGAGTATGGAGCTAAGCCAAACCCACCCTTGGGTCCAAAA...   True   \n",
       "3  AAGAAATGTTTTTGTTTGTTTTTAGTCTTTCAGTCACTTGATAATA...   True   \n",
       "4  ATCTGGAACTCTAGCTGGTCCGCAAGCACGGCGCGCAGCCCCGGTT...   True   \n",
       "\n",
       "                                       sequence_list  \n",
       "0  [3, 0, 2, 2, 0, 1, 3, 3, 3, 3, 3, 1, 3, 3, 2, ...  \n",
       "1  [1, 1, 0, 0, 2, 1, 1, 0, 2, 2, 0, 2, 2, 2, 2, ...  \n",
       "2  [0, 0, 0, 1, 2, 3, 2, 2, 0, 2, 3, 0, 3, 2, 2, ...  \n",
       "3  [0, 0, 2, 0, 0, 0, 3, 2, 3, 3, 3, 3, 3, 2, 3, ...  \n",
       "4  [0, 3, 1, 3, 2, 2, 0, 0, 1, 3, 1, 3, 0, 2, 1, ...  "
      ]
     },
     "execution_count": 98,
     "metadata": {},
     "output_type": "execute_result"
    }
   ],
   "source": [
    "dna_data['sequence_list'] = dna_data['sequences'].apply(label_encode)\n",
    "dna_data.head()"
   ]
  },
  {
   "cell_type": "code",
   "execution_count": 99,
   "metadata": {
    "colab": {},
    "colab_type": "code",
    "id": "MayIFycCnHIw"
   },
   "outputs": [],
   "source": [
    "sequence_list = np.array(dna_data['sequence_list'].values.tolist())"
   ]
  },
  {
   "cell_type": "code",
   "execution_count": 44,
   "metadata": {
    "colab": {},
    "colab_type": "code",
    "id": "18Q4L6dGm3od"
   },
   "outputs": [],
   "source": [
    "from sklearn.preprocessing import OneHotEncoder"
   ]
  },
  {
   "cell_type": "code",
   "execution_count": 100,
   "metadata": {
    "colab": {},
    "colab_type": "code",
    "id": "fZgBmq5nmphY"
   },
   "outputs": [],
   "source": [
    "onehot_encoder = OneHotEncoder(sparse = False)\n",
    "sequence_encoded = onehot_encoder.fit_transform(sequence_list)"
   ]
  },
  {
   "cell_type": "code",
   "execution_count": 101,
   "metadata": {
    "colab": {},
    "colab_type": "code",
    "id": "2b5LkqbomrmC"
   },
   "outputs": [],
   "source": [
    "dna_data['sequence_encoded'] = sequence_encoded.tolist()"
   ]
  },
  {
   "cell_type": "code",
   "execution_count": 102,
   "metadata": {
    "colab": {},
    "colab_type": "code",
    "id": "7gUB7kyDnSa4"
   },
   "outputs": [],
   "source": [
    "dna_data = dna_data.sample(frac = 1, replace = False, axis = 0)"
   ]
  },
  {
   "cell_type": "code",
   "execution_count": 103,
   "metadata": {
    "colab": {
     "base_uri": "https://localhost:8080/",
     "height": 285
    },
    "colab_type": "code",
    "id": "_4g_rqFmncVe",
    "outputId": "95b7aa54-0c6d-43f0-f7a5-739ea8ea9ef6"
   },
   "outputs": [
    {
     "data": {
      "text/html": [
       "<div>\n",
       "<style scoped>\n",
       "    .dataframe tbody tr th:only-of-type {\n",
       "        vertical-align: middle;\n",
       "    }\n",
       "\n",
       "    .dataframe tbody tr th {\n",
       "        vertical-align: top;\n",
       "    }\n",
       "\n",
       "    .dataframe thead th {\n",
       "        text-align: right;\n",
       "    }\n",
       "</style>\n",
       "<table border=\"1\" class=\"dataframe\">\n",
       "  <thead>\n",
       "    <tr style=\"text-align: right;\">\n",
       "      <th></th>\n",
       "      <th>sequences</th>\n",
       "      <th>label</th>\n",
       "      <th>sequence_list</th>\n",
       "      <th>sequence_encoded</th>\n",
       "    </tr>\n",
       "  </thead>\n",
       "  <tbody>\n",
       "    <tr>\n",
       "      <th>506</th>\n",
       "      <td>GTCAATGTTCCTACACATGCAGCTAGAATCATATCTTAAAACACTG...</td>\n",
       "      <td>True</td>\n",
       "      <td>[2, 3, 1, 0, 0, 3, 2, 3, 3, 1, 1, 3, 0, 1, 0, ...</td>\n",
       "      <td>[0.0, 0.0, 1.0, 0.0, 0.0, 0.0, 0.0, 1.0, 0.0, ...</td>\n",
       "    </tr>\n",
       "    <tr>\n",
       "      <th>1492</th>\n",
       "      <td>TGAAATGGACCCACAGCAAAAGCCCATTAACATCCCCACGCACAGA...</td>\n",
       "      <td>False</td>\n",
       "      <td>[3, 2, 0, 0, 0, 3, 2, 2, 0, 1, 1, 1, 0, 1, 0, ...</td>\n",
       "      <td>[0.0, 0.0, 0.0, 1.0, 0.0, 0.0, 1.0, 0.0, 1.0, ...</td>\n",
       "    </tr>\n",
       "    <tr>\n",
       "      <th>1666</th>\n",
       "      <td>CTCAAGTCCCCCACCGAGAAAGGTCAGCTCTGACTCTGACACACCT...</td>\n",
       "      <td>False</td>\n",
       "      <td>[1, 3, 1, 0, 0, 2, 3, 1, 1, 1, 1, 1, 0, 1, 1, ...</td>\n",
       "      <td>[0.0, 1.0, 0.0, 0.0, 0.0, 0.0, 0.0, 1.0, 0.0, ...</td>\n",
       "    </tr>\n",
       "    <tr>\n",
       "      <th>135</th>\n",
       "      <td>GCTTGAGCTCACAAGTCACAGCTCACTGAGCAGCTTTCCCAAAAGC...</td>\n",
       "      <td>True</td>\n",
       "      <td>[2, 1, 3, 3, 2, 0, 2, 1, 3, 1, 0, 1, 0, 0, 2, ...</td>\n",
       "      <td>[0.0, 0.0, 1.0, 0.0, 0.0, 1.0, 0.0, 0.0, 0.0, ...</td>\n",
       "    </tr>\n",
       "    <tr>\n",
       "      <th>667</th>\n",
       "      <td>AAAGCACCTTTCATTTCAAGCATTTCAACAAGCATTCCCTAAAGTG...</td>\n",
       "      <td>True</td>\n",
       "      <td>[0, 0, 0, 2, 1, 0, 1, 1, 3, 3, 3, 1, 0, 3, 3, ...</td>\n",
       "      <td>[1.0, 0.0, 0.0, 0.0, 1.0, 0.0, 0.0, 0.0, 1.0, ...</td>\n",
       "    </tr>\n",
       "  </tbody>\n",
       "</table>\n",
       "</div>"
      ],
      "text/plain": [
       "                                              sequences  label  \\\n",
       "506   GTCAATGTTCCTACACATGCAGCTAGAATCATATCTTAAAACACTG...   True   \n",
       "1492  TGAAATGGACCCACAGCAAAAGCCCATTAACATCCCCACGCACAGA...  False   \n",
       "1666  CTCAAGTCCCCCACCGAGAAAGGTCAGCTCTGACTCTGACACACCT...  False   \n",
       "135   GCTTGAGCTCACAAGTCACAGCTCACTGAGCAGCTTTCCCAAAAGC...   True   \n",
       "667   AAAGCACCTTTCATTTCAAGCATTTCAACAAGCATTCCCTAAAGTG...   True   \n",
       "\n",
       "                                          sequence_list  \\\n",
       "506   [2, 3, 1, 0, 0, 3, 2, 3, 3, 1, 1, 3, 0, 1, 0, ...   \n",
       "1492  [3, 2, 0, 0, 0, 3, 2, 2, 0, 1, 1, 1, 0, 1, 0, ...   \n",
       "1666  [1, 3, 1, 0, 0, 2, 3, 1, 1, 1, 1, 1, 0, 1, 1, ...   \n",
       "135   [2, 1, 3, 3, 2, 0, 2, 1, 3, 1, 0, 1, 0, 0, 2, ...   \n",
       "667   [0, 0, 0, 2, 1, 0, 1, 1, 3, 3, 3, 1, 0, 3, 3, ...   \n",
       "\n",
       "                                       sequence_encoded  \n",
       "506   [0.0, 0.0, 1.0, 0.0, 0.0, 0.0, 0.0, 1.0, 0.0, ...  \n",
       "1492  [0.0, 0.0, 0.0, 1.0, 0.0, 0.0, 1.0, 0.0, 1.0, ...  \n",
       "1666  [0.0, 1.0, 0.0, 0.0, 0.0, 0.0, 0.0, 1.0, 0.0, ...  \n",
       "135   [0.0, 0.0, 1.0, 0.0, 0.0, 1.0, 0.0, 0.0, 0.0, ...  \n",
       "667   [1.0, 0.0, 0.0, 0.0, 1.0, 0.0, 0.0, 0.0, 1.0, ...  "
      ]
     },
     "execution_count": 103,
     "metadata": {},
     "output_type": "execute_result"
    }
   ],
   "source": [
    "dna_data.head()"
   ]
  },
  {
   "cell_type": "code",
   "execution_count": 104,
   "metadata": {
    "colab": {
     "base_uri": "https://localhost:8080/",
     "height": 200
    },
    "colab_type": "code",
    "id": "TXNDOYgEndxc",
    "outputId": "84636273-f7a0-493e-f763-988264b42913"
   },
   "outputs": [
    {
     "data": {
      "text/html": [
       "<div>\n",
       "<style scoped>\n",
       "    .dataframe tbody tr th:only-of-type {\n",
       "        vertical-align: middle;\n",
       "    }\n",
       "\n",
       "    .dataframe tbody tr th {\n",
       "        vertical-align: top;\n",
       "    }\n",
       "\n",
       "    .dataframe thead th {\n",
       "        text-align: right;\n",
       "    }\n",
       "</style>\n",
       "<table border=\"1\" class=\"dataframe\">\n",
       "  <thead>\n",
       "    <tr style=\"text-align: right;\">\n",
       "      <th></th>\n",
       "      <th>label</th>\n",
       "      <th>sequence_encoded</th>\n",
       "    </tr>\n",
       "  </thead>\n",
       "  <tbody>\n",
       "    <tr>\n",
       "      <th>506</th>\n",
       "      <td>True</td>\n",
       "      <td>[0.0, 0.0, 1.0, 0.0, 0.0, 0.0, 0.0, 1.0, 0.0, ...</td>\n",
       "    </tr>\n",
       "    <tr>\n",
       "      <th>1492</th>\n",
       "      <td>False</td>\n",
       "      <td>[0.0, 0.0, 0.0, 1.0, 0.0, 0.0, 1.0, 0.0, 1.0, ...</td>\n",
       "    </tr>\n",
       "    <tr>\n",
       "      <th>1666</th>\n",
       "      <td>False</td>\n",
       "      <td>[0.0, 1.0, 0.0, 0.0, 0.0, 0.0, 0.0, 1.0, 0.0, ...</td>\n",
       "    </tr>\n",
       "    <tr>\n",
       "      <th>135</th>\n",
       "      <td>True</td>\n",
       "      <td>[0.0, 0.0, 1.0, 0.0, 0.0, 1.0, 0.0, 0.0, 0.0, ...</td>\n",
       "    </tr>\n",
       "    <tr>\n",
       "      <th>667</th>\n",
       "      <td>True</td>\n",
       "      <td>[1.0, 0.0, 0.0, 0.0, 1.0, 0.0, 0.0, 0.0, 1.0, ...</td>\n",
       "    </tr>\n",
       "  </tbody>\n",
       "</table>\n",
       "</div>"
      ],
      "text/plain": [
       "      label                                   sequence_encoded\n",
       "506    True  [0.0, 0.0, 1.0, 0.0, 0.0, 0.0, 0.0, 1.0, 0.0, ...\n",
       "1492  False  [0.0, 0.0, 0.0, 1.0, 0.0, 0.0, 1.0, 0.0, 1.0, ...\n",
       "1666  False  [0.0, 1.0, 0.0, 0.0, 0.0, 0.0, 0.0, 1.0, 0.0, ...\n",
       "135    True  [0.0, 0.0, 1.0, 0.0, 0.0, 1.0, 0.0, 0.0, 0.0, ...\n",
       "667    True  [1.0, 0.0, 0.0, 0.0, 1.0, 0.0, 0.0, 0.0, 1.0, ..."
      ]
     },
     "execution_count": 104,
     "metadata": {},
     "output_type": "execute_result"
    }
   ],
   "source": [
    "dna_data = dna_data.drop(['sequences', 'sequence_list'], axis = 1)\n",
    "dna_data.head()"
   ]
  },
  {
   "cell_type": "code",
   "execution_count": 105,
   "metadata": {
    "colab": {},
    "colab_type": "code",
    "id": "SBaLJrVJngwz"
   },
   "outputs": [],
   "source": [
    "labels = dna_data['label'].values"
   ]
  },
  {
   "cell_type": "code",
   "execution_count": 106,
   "metadata": {
    "colab": {},
    "colab_type": "code",
    "id": "CwUmoLpnnpUk"
   },
   "outputs": [],
   "source": [
    "sequence_encoded = sequence_encoded.reshape(len(sequence_encoded), 1, 500, 4)"
   ]
  },
  {
   "cell_type": "code",
   "execution_count": 107,
   "metadata": {
    "colab": {
     "base_uri": "https://localhost:8080/",
     "height": 35
    },
    "colab_type": "code",
    "id": "ifQm2v6_nrI3",
    "outputId": "888dc809-7f74-4d57-8f6b-fbcfe4aa683c"
   },
   "outputs": [
    {
     "data": {
      "text/plain": [
       "(1987, 1, 500, 4)"
      ]
     },
     "execution_count": 107,
     "metadata": {},
     "output_type": "execute_result"
    }
   ],
   "source": [
    "sequence_encoded.shape"
   ]
  },
  {
   "cell_type": "code",
   "execution_count": 108,
   "metadata": {
    "colab": {
     "base_uri": "https://localhost:8080/",
     "height": 141
    },
    "colab_type": "code",
    "id": "fj-ioFq6n1Cs",
    "outputId": "d8908135-c8a3-491a-d822-aae29740eceb"
   },
   "outputs": [
    {
     "data": {
      "text/plain": [
       "array([[ True],\n",
       "       [False],\n",
       "       [False],\n",
       "       ...,\n",
       "       [ True],\n",
       "       [ True],\n",
       "       [ True]])"
      ]
     },
     "execution_count": 108,
     "metadata": {},
     "output_type": "execute_result"
    }
   ],
   "source": [
    "labels.reshape(1987, 1)"
   ]
  },
  {
   "cell_type": "code",
   "execution_count": 109,
   "metadata": {
    "colab": {},
    "colab_type": "code",
    "id": "bY79d1AUn8Ki"
   },
   "outputs": [],
   "source": [
    "from sklearn.model_selection import train_test_split\n",
    "X_train, X_test, y_train, y_test = train_test_split(sequence_encoded, labels, \n",
    "                                test_size = 0.1)"
   ]
  },
  {
   "cell_type": "code",
   "execution_count": 110,
   "metadata": {
    "colab": {
     "base_uri": "https://localhost:8080/",
     "height": 35
    },
    "colab_type": "code",
    "id": "YonccJsSn_Kj",
    "outputId": "1d8ed2a1-9a1c-4b0a-8942-df8611ee1417"
   },
   "outputs": [
    {
     "data": {
      "text/plain": [
       "((1788,), (199,))"
      ]
     },
     "execution_count": 110,
     "metadata": {},
     "output_type": "execute_result"
    }
   ],
   "source": [
    "y_train.shape, y_test.shape"
   ]
  },
  {
   "cell_type": "code",
   "execution_count": 111,
   "metadata": {
    "colab": {
     "base_uri": "https://localhost:8080/",
     "height": 35
    },
    "colab_type": "code",
    "id": "UNt4wQrMoAY7",
    "outputId": "f803c318-de10-403e-bb4d-fba314d14620"
   },
   "outputs": [
    {
     "data": {
      "text/plain": [
       "((1788, 1), (199, 1))"
      ]
     },
     "execution_count": 111,
     "metadata": {},
     "output_type": "execute_result"
    }
   ],
   "source": [
    "y_train.reshape(1788, 1).shape, y_test.reshape(199,1).shape"
   ]
  },
  {
   "cell_type": "code",
   "execution_count": 57,
   "metadata": {
    "colab": {},
    "colab_type": "code",
    "id": "qUesXBRaoQ5l"
   },
   "outputs": [
    {
     "name": "stderr",
     "output_type": "stream",
     "text": [
      "Using TensorFlow backend.\n"
     ]
    }
   ],
   "source": [
    "import tensorflow as tf\n",
    "#To prepare for model training, we import the necessary functions and submodules from keras\n",
    "from keras.models import Sequential\n",
    "from keras.layers.core import Dropout, Reshape, Dense, Activation, Flatten\n",
    "from keras.layers.convolutional import Conv2D, MaxPooling2D\n",
    "from keras.optimizers import Adadelta, SGD, RMSprop;\n",
    "import keras.losses;\n",
    "from keras.constraints import maxnorm;\n",
    "from keras.layers.normalization import BatchNormalization\n",
    "from keras.regularizers import l1, l2\n",
    "from keras.callbacks import EarlyStopping, History\n",
    "from keras import backend as K \n",
    "K.set_image_data_format('channels_last')"
   ]
  },
  {
   "cell_type": "code",
   "execution_count": 197,
   "metadata": {
    "colab": {},
    "colab_type": "code",
    "id": "XBySaBB7oXOj"
   },
   "outputs": [],
   "source": [
    "model = Sequential()"
   ]
  },
  {
   "cell_type": "code",
   "execution_count": 198,
   "metadata": {
    "colab": {},
    "colab_type": "code",
    "id": "PS8ri9FloZiq"
   },
   "outputs": [],
   "source": [
    "model.add(Conv2D(filters = 15, kernel_size = (1, 10), padding = \"same\", input_shape = sequence_encoded.shape[1::]))\n",
    "model.add(BatchNormalization(axis=-1))\n",
    "model.add(Activation(\"relu\"))\n",
    "\n",
    "model.add(Conv2D(filters = 15, kernel_size = (1, 10), padding = \"same\", input_shape = sequence_encoded.shape[1::]))\n",
    "model.add(BatchNormalization(axis=-1))\n",
    "model.add(Activation(\"relu\"))\n",
    "\n",
    "model.add(Conv2D(filters = 15, kernel_size = (1, 10), padding = \"same\", input_shape = sequence_encoded.shape[1::]))\n",
    "model.add(BatchNormalization(axis=-1))\n",
    "model.add(Activation(\"relu\"))\n",
    "\n",
    "\n",
    "model.add(MaxPooling2D(pool_size = (1, 35)))\n",
    "model.add(Flatten())\n",
    "model.add(Dense(1))\n",
    "model.add(Activation('sigmoid'))"
   ]
  },
  {
   "cell_type": "code",
   "execution_count": 199,
   "metadata": {
    "colab": {
     "base_uri": "https://localhost:8080/",
     "height": 621
    },
    "colab_type": "code",
    "id": "8laMWtG2obwB",
    "outputId": "037b44ae-0a39-41c9-bf3d-4e0d12bcc2e1"
   },
   "outputs": [
    {
     "name": "stdout",
     "output_type": "stream",
     "text": [
      "Model: \"sequential_20\"\n",
      "_________________________________________________________________\n",
      "Layer (type)                 Output Shape              Param #   \n",
      "=================================================================\n",
      "conv2d_78 (Conv2D)           (None, 1, 500, 15)        615       \n",
      "_________________________________________________________________\n",
      "batch_normalization_70 (Batc (None, 1, 500, 15)        60        \n",
      "_________________________________________________________________\n",
      "activation_89 (Activation)   (None, 1, 500, 15)        0         \n",
      "_________________________________________________________________\n",
      "conv2d_79 (Conv2D)           (None, 1, 500, 15)        2265      \n",
      "_________________________________________________________________\n",
      "batch_normalization_71 (Batc (None, 1, 500, 15)        60        \n",
      "_________________________________________________________________\n",
      "activation_90 (Activation)   (None, 1, 500, 15)        0         \n",
      "_________________________________________________________________\n",
      "conv2d_80 (Conv2D)           (None, 1, 500, 15)        2265      \n",
      "_________________________________________________________________\n",
      "batch_normalization_72 (Batc (None, 1, 500, 15)        60        \n",
      "_________________________________________________________________\n",
      "activation_91 (Activation)   (None, 1, 500, 15)        0         \n",
      "_________________________________________________________________\n",
      "max_pooling2d_20 (MaxPooling (None, 1, 14, 15)         0         \n",
      "_________________________________________________________________\n",
      "flatten_20 (Flatten)         (None, 210)               0         \n",
      "_________________________________________________________________\n",
      "dense_20 (Dense)             (None, 1)                 211       \n",
      "_________________________________________________________________\n",
      "activation_92 (Activation)   (None, 1)                 0         \n",
      "=================================================================\n",
      "Total params: 5,536\n",
      "Trainable params: 5,446\n",
      "Non-trainable params: 90\n",
      "_________________________________________________________________\n"
     ]
    }
   ],
   "source": [
    "model.summary()"
   ]
  },
  {
   "cell_type": "code",
   "execution_count": 200,
   "metadata": {
    "colab": {},
    "colab_type": "code",
    "id": "jvz2ZzVWodu9"
   },
   "outputs": [],
   "source": [
    "model.compile(optimizer='adam', loss='binary_crossentropy', metrics=['accuracy'])"
   ]
  },
  {
   "cell_type": "code",
   "execution_count": 201,
   "metadata": {
    "colab": {
     "base_uri": "https://localhost:8080/",
     "height": 410
    },
    "colab_type": "code",
    "id": "Qsps9WtXolmC",
    "outputId": "bd35b56e-d289-4103-8c51-55fdf02f7b3f"
   },
   "outputs": [
    {
     "name": "stdout",
     "output_type": "stream",
     "text": [
      "Train on 1609 samples, validate on 179 samples\n",
      "Epoch 1/20\n",
      "1609/1609 [==============================] - 5s 3ms/step - loss: 0.7699 - accuracy: 0.5768 - val_loss: 0.6792 - val_accuracy: 0.6145\n",
      "Epoch 2/20\n",
      "1609/1609 [==============================] - 4s 2ms/step - loss: 0.6404 - accuracy: 0.6227 - val_loss: 0.6782 - val_accuracy: 0.5978\n",
      "Epoch 3/20\n",
      "1609/1609 [==============================] - 4s 2ms/step - loss: 0.5927 - accuracy: 0.6781 - val_loss: 0.6907 - val_accuracy: 0.5196\n",
      "Epoch 4/20\n",
      "1609/1609 [==============================] - 4s 2ms/step - loss: 0.5533 - accuracy: 0.7359 - val_loss: 0.6794 - val_accuracy: 0.6034\n",
      "Epoch 5/20\n",
      "1609/1609 [==============================] - 4s 2ms/step - loss: 0.5196 - accuracy: 0.7439 - val_loss: 0.6885 - val_accuracy: 0.5419\n",
      "Epoch 6/20\n",
      "1609/1609 [==============================] - 4s 2ms/step - loss: 0.4928 - accuracy: 0.7918 - val_loss: 0.6823 - val_accuracy: 0.6089\n",
      "Epoch 7/20\n",
      "1609/1609 [==============================] - 4s 2ms/step - loss: 0.4719 - accuracy: 0.8104 - val_loss: 0.6903 - val_accuracy: 0.5307\n",
      "Epoch 8/20\n",
      "1609/1609 [==============================] - 4s 2ms/step - loss: 0.4532 - accuracy: 0.8303 - val_loss: 0.6884 - val_accuracy: 0.5363\n",
      "Epoch 9/20\n",
      "1609/1609 [==============================] - 4s 2ms/step - loss: 0.4389 - accuracy: 0.8614 - val_loss: 0.6838 - val_accuracy: 0.5363\n",
      "Epoch 10/20\n",
      "1609/1609 [==============================] - 4s 2ms/step - loss: 0.4247 - accuracy: 0.8608 - val_loss: 0.6953 - val_accuracy: 0.5531\n",
      "Epoch 11/20\n",
      "1609/1609 [==============================] - 4s 3ms/step - loss: 0.4112 - accuracy: 0.8564 - val_loss: 0.7017 - val_accuracy: 0.5363\n",
      "Epoch 12/20\n",
      "1609/1609 [==============================] - 4s 2ms/step - loss: 0.3958 - accuracy: 0.8962 - val_loss: 0.6900 - val_accuracy: 0.5531\n",
      "Epoch 13/20\n",
      "1609/1609 [==============================] - 4s 2ms/step - loss: 0.3826 - accuracy: 0.8987 - val_loss: 0.7059 - val_accuracy: 0.5307\n",
      "Epoch 14/20\n",
      "1609/1609 [==============================] - 4s 3ms/step - loss: 0.3734 - accuracy: 0.9024 - val_loss: 0.7091 - val_accuracy: 0.5363\n",
      "Epoch 15/20\n",
      "1609/1609 [==============================] - 4s 3ms/step - loss: 0.3627 - accuracy: 0.9211 - val_loss: 0.7018 - val_accuracy: 0.5363\n",
      "Epoch 16/20\n",
      "1609/1609 [==============================] - 4s 3ms/step - loss: 0.3511 - accuracy: 0.9192 - val_loss: 0.7105 - val_accuracy: 0.5475\n",
      "Epoch 17/20\n",
      "1609/1609 [==============================] - 4s 3ms/step - loss: 0.3419 - accuracy: 0.9441 - val_loss: 0.7003 - val_accuracy: 0.5363\n",
      "Epoch 18/20\n",
      "1609/1609 [==============================] - 4s 3ms/step - loss: 0.3296 - accuracy: 0.9478 - val_loss: 0.7084 - val_accuracy: 0.5363\n",
      "Epoch 19/20\n",
      "1609/1609 [==============================] - 4s 3ms/step - loss: 0.3202 - accuracy: 0.9397 - val_loss: 0.7202 - val_accuracy: 0.5363\n",
      "Epoch 20/20\n",
      "1609/1609 [==============================] - 4s 3ms/step - loss: 0.3088 - accuracy: 0.9633 - val_loss: 0.7147 - val_accuracy: 0.5363\n"
     ]
    }
   ],
   "source": [
    "model_train = model.fit(x=X_train, y=y_train, batch_size = 128, epochs = 20,\n",
    "                                  validation_split=0.1)"
   ]
  },
  {
   "cell_type": "code",
   "execution_count": 202,
   "metadata": {
    "colab": {
     "base_uri": "https://localhost:8080/",
     "height": 70
    },
    "colab_type": "code",
    "id": "MG601GBmonXF",
    "outputId": "eba0e131-d096-44ad-8dfe-e66c22dd6fac"
   },
   "outputs": [
    {
     "name": "stdout",
     "output_type": "stream",
     "text": [
      "199/199 [==============================] - 0s 787us/step\n",
      "Total loss:  0.7033388818328704\n",
      "Test accuracy:  0.6030150651931763\n"
     ]
    }
   ],
   "source": [
    "test_eval = model.evaluate(X_test, y_test, verbose = 1)\n",
    "print('Total loss: ', test_eval[0])\n",
    "print('Test accuracy: ', test_eval[1])"
   ]
  },
  {
   "cell_type": "code",
   "execution_count": 220,
   "metadata": {
    "colab": {},
    "colab_type": "code",
    "id": "dpi9nj3bqJdn"
   },
   "outputs": [],
   "source": [
    "dropout_model = Sequential()\n",
    "dropout_model.add(Conv2D(filters = 10, kernel_size = (1, 15), padding = \"same\", input_shape = sequence_encoded.shape[1::]))\n",
    "dropout_model.add(BatchNormalization(axis=-1))\n",
    "dropout_model.add(Activation(\"relu\"))\n",
    "dropout_model.add(Dropout(0.25))\n",
    "\n",
    "dropout_model.add(Conv2D(filters = 10, kernel_size = (1, 15), padding = \"same\", input_shape = sequence_encoded.shape[1::]))\n",
    "dropout_model.add(BatchNormalization(axis=-1))\n",
    "dropout_model.add(Activation(\"relu\"))\n",
    "dropout_model.add(Dropout(0.25))\n",
    "\n",
    "dropout_model.add(Conv2D(filters = 10, kernel_size = (1, 15), padding = \"same\", input_shape = sequence_encoded.shape[1::]))\n",
    "dropout_model.add(BatchNormalization(axis=-1))\n",
    "dropout_model.add(Activation(\"relu\"))\n",
    "dropout_model.add(Dropout(0.25))\n",
    "\n",
    "dropout_model.add(Conv2D(filters = 10, kernel_size = (1, 15), padding = \"same\", input_shape = sequence_encoded.shape[1::]))\n",
    "dropout_model.add(BatchNormalization(axis=-1))\n",
    "dropout_model.add(Activation(\"relu\"))\n",
    "dropout_model.add(Dropout(0.25))\n",
    "\n",
    "\n",
    "dropout_model.add(MaxPooling2D(pool_size = (1, 35)))\n",
    "\n",
    "dropout_model.add(Flatten())\n",
    "dropout_model.add(Dense(1))\n",
    "dropout_model.add(Activation('sigmoid'))"
   ]
  },
  {
   "cell_type": "code",
   "execution_count": 221,
   "metadata": {
    "colab": {},
    "colab_type": "code",
    "id": "FdL3e11OsGZk"
   },
   "outputs": [],
   "source": [
    "dropout_model.compile(optimizer='adam', loss='binary_crossentropy', metrics=['accuracy'])"
   ]
  },
  {
   "cell_type": "code",
   "execution_count": 222,
   "metadata": {
    "colab": {
     "base_uri": "https://localhost:8080/",
     "height": 410
    },
    "colab_type": "code",
    "id": "Vj0pHdVHsG8q",
    "outputId": "afa273dc-7975-4fd5-afd6-ed52a232889f"
   },
   "outputs": [
    {
     "name": "stdout",
     "output_type": "stream",
     "text": [
      "Train on 1609 samples, validate on 179 samples\n",
      "Epoch 1/20\n",
      "1609/1609 [==============================] - 12s 7ms/step - loss: 2.6461 - accuracy: 0.3686 - val_loss: 0.6954 - val_accuracy: 0.4525\n",
      "Epoch 2/20\n",
      "1609/1609 [==============================] - 9s 5ms/step - loss: 0.8254 - accuracy: 0.5531 - val_loss: 0.6825 - val_accuracy: 0.6145\n",
      "Epoch 3/20\n",
      "1609/1609 [==============================] - 9s 5ms/step - loss: 0.8593 - accuracy: 0.6240 - val_loss: 0.6911 - val_accuracy: 0.5642\n",
      "Epoch 4/20\n",
      "1609/1609 [==============================] - 8s 5ms/step - loss: 0.7847 - accuracy: 0.5594 - val_loss: 0.7049 - val_accuracy: 0.3855\n",
      "Epoch 5/20\n",
      "1609/1609 [==============================] - 8s 5ms/step - loss: 0.7413 - accuracy: 0.5612 - val_loss: 0.7009 - val_accuracy: 0.3911\n",
      "Epoch 6/20\n",
      "1609/1609 [==============================] - 8s 5ms/step - loss: 0.7347 - accuracy: 0.5705 - val_loss: 0.6980 - val_accuracy: 0.4525\n",
      "Epoch 7/20\n",
      "1609/1609 [==============================] - 9s 5ms/step - loss: 0.7262 - accuracy: 0.5848 - val_loss: 0.6989 - val_accuracy: 0.4413\n",
      "Epoch 8/20\n",
      "1609/1609 [==============================] - 9s 6ms/step - loss: 0.7186 - accuracy: 0.5736 - val_loss: 0.6985 - val_accuracy: 0.4469\n",
      "Epoch 9/20\n",
      "1609/1609 [==============================] - 9s 5ms/step - loss: 0.7204 - accuracy: 0.5836 - val_loss: 0.6921 - val_accuracy: 0.5251\n",
      "Epoch 10/20\n",
      "1609/1609 [==============================] - 9s 6ms/step - loss: 0.7091 - accuracy: 0.5842 - val_loss: 0.6938 - val_accuracy: 0.5084\n",
      "Epoch 11/20\n",
      "1609/1609 [==============================] - 9s 6ms/step - loss: 0.7155 - accuracy: 0.5780 - val_loss: 0.6904 - val_accuracy: 0.5419\n",
      "Epoch 12/20\n",
      "1609/1609 [==============================] - 9s 6ms/step - loss: 0.7097 - accuracy: 0.5898 - val_loss: 0.6891 - val_accuracy: 0.5698\n",
      "Epoch 13/20\n",
      "1609/1609 [==============================] - 9s 6ms/step - loss: 0.7270 - accuracy: 0.5805 - val_loss: 0.6892 - val_accuracy: 0.5642\n",
      "Epoch 14/20\n",
      "1609/1609 [==============================] - 7s 4ms/step - loss: 0.7036 - accuracy: 0.5966 - val_loss: 0.6876 - val_accuracy: 0.5754\n",
      "Epoch 15/20\n",
      "1609/1609 [==============================] - 8s 5ms/step - loss: 0.7065 - accuracy: 0.5973 - val_loss: 0.6904 - val_accuracy: 0.5419\n",
      "Epoch 16/20\n",
      "1609/1609 [==============================] - 9s 6ms/step - loss: 0.6943 - accuracy: 0.5985 - val_loss: 0.6874 - val_accuracy: 0.5642\n",
      "Epoch 17/20\n",
      "1609/1609 [==============================] - 9s 6ms/step - loss: 0.7054 - accuracy: 0.5911 - val_loss: 0.6892 - val_accuracy: 0.5587\n",
      "Epoch 18/20\n",
      "1609/1609 [==============================] - 9s 6ms/step - loss: 0.7090 - accuracy: 0.5867 - val_loss: 0.6868 - val_accuracy: 0.5810\n",
      "Epoch 19/20\n",
      "1609/1609 [==============================] - 9s 6ms/step - loss: 0.7032 - accuracy: 0.5973 - val_loss: 0.6900 - val_accuracy: 0.5531\n",
      "Epoch 20/20\n",
      "1609/1609 [==============================] - 9s 6ms/step - loss: 0.7047 - accuracy: 0.5823 - val_loss: 0.6868 - val_accuracy: 0.5419\n"
     ]
    }
   ],
   "source": [
    "train = dropout_model.fit(x=X_train, y=y_train, batch_size = 128, epochs = 10,\n",
    "                                  validation_split=0.1)"
   ]
  },
  {
   "cell_type": "code",
   "execution_count": 216,
   "metadata": {
    "colab": {
     "base_uri": "https://localhost:8080/",
     "height": 70
    },
    "colab_type": "code",
    "id": "hWruIFKYsItW",
    "outputId": "14b81aff-3a16-47f2-8366-0d4c18b1b110"
   },
   "outputs": [
    {
     "name": "stdout",
     "output_type": "stream",
     "text": [
      "199/199 [==============================] - 0s 2ms/step\n",
      "Total loss:  0.6799176179583947\n",
      "Test accuracy:  0.6080402135848999\n"
     ]
    }
   ],
   "source": [
    "test_eval = dropout_model.evaluate(X_test, y_test, verbose = 1)\n",
    "print('Total loss: ', test_eval[0])\n",
    "print('Test accuracy: ', test_eval[1])"
   ]
  },
  {
   "cell_type": "code",
   "execution_count": 217,
   "metadata": {},
   "outputs": [],
   "source": [
    "dropout_model = Sequential()\n",
    "dropout_model.add(Conv2D(filters = 15, kernel_size = (1, 10), padding = \"same\", input_shape = sequence_encoded.shape[1::]))\n",
    "dropout_model.add(BatchNormalization(axis=-1))\n",
    "dropout_model.add(Activation(\"relu\"))\n",
    "dropout_model.add(Dropout(0.25))\n",
    "\n",
    "dropout_model.add(Conv2D(filters = 15, kernel_size = (1, 10), padding = \"same\", input_shape = sequence_encoded.shape[1::]))\n",
    "dropout_model.add(BatchNormalization(axis=-1))\n",
    "dropout_model.add(Activation(\"relu\"))\n",
    "dropout_model.add(Dropout(0.25))\n",
    "\n",
    "dropout_model.add(Conv2D(filters = 15, kernel_size = (1, 10), padding = \"same\", input_shape = sequence_encoded.shape[1::]))\n",
    "dropout_model.add(BatchNormalization(axis=-1))\n",
    "dropout_model.add(Activation(\"relu\"))\n",
    "dropout_model.add(Dropout(0.25))\n",
    "\n",
    "dropout_model.add(Conv2D(filters = 15, kernel_size = (1, 10), padding = \"same\", input_shape = sequence_encoded.shape[1::]))\n",
    "dropout_model.add(BatchNormalization(axis=-1))\n",
    "dropout_model.add(Activation(\"relu\"))\n",
    "dropout_model.add(Dropout(0.25))\n",
    "\n",
    "\n",
    "dropout_model.add(MaxPooling2D(pool_size = (1, 35)))\n",
    "\n",
    "dropout_model.add(Flatten())\n",
    "dropout_model.add(Dense(1))\n",
    "dropout_model.add(Activation('sigmoid'))"
   ]
  },
  {
   "cell_type": "code",
   "execution_count": 218,
   "metadata": {},
   "outputs": [
    {
     "name": "stdout",
     "output_type": "stream",
     "text": [
      "Train on 1609 samples, validate on 179 samples\n",
      "Epoch 1/10\n",
      "1609/1609 [==============================] - 14s 9ms/step - loss: 0.8063 - accuracy: 0.5687 - val_loss: 0.6891 - val_accuracy: 0.5922\n",
      "Epoch 2/10\n",
      "1609/1609 [==============================] - 11s 7ms/step - loss: 0.7598 - accuracy: 0.5811 - val_loss: 0.6919 - val_accuracy: 0.5475\n",
      "Epoch 3/10\n",
      "1609/1609 [==============================] - 11s 7ms/step - loss: 0.7590 - accuracy: 0.5749 - val_loss: 0.6891 - val_accuracy: 0.5531\n",
      "Epoch 4/10\n",
      "1609/1609 [==============================] - 11s 7ms/step - loss: 0.7305 - accuracy: 0.5836 - val_loss: 0.6896 - val_accuracy: 0.5419\n",
      "Epoch 5/10\n",
      "1609/1609 [==============================] - 11s 7ms/step - loss: 0.7459 - accuracy: 0.5674 - val_loss: 0.6901 - val_accuracy: 0.5531\n",
      "Epoch 6/10\n",
      "1609/1609 [==============================] - 10s 6ms/step - loss: 0.7495 - accuracy: 0.5755 - val_loss: 0.6920 - val_accuracy: 0.5363\n",
      "Epoch 7/10\n",
      "1609/1609 [==============================] - 10s 6ms/step - loss: 0.7319 - accuracy: 0.5799 - val_loss: 0.6877 - val_accuracy: 0.5810\n",
      "Epoch 8/10\n",
      "1609/1609 [==============================] - 10s 6ms/step - loss: 0.7149 - accuracy: 0.5923 - val_loss: 0.6894 - val_accuracy: 0.5475\n",
      "Epoch 9/10\n",
      "1609/1609 [==============================] - 10s 6ms/step - loss: 0.7178 - accuracy: 0.5768 - val_loss: 0.6866 - val_accuracy: 0.5810\n",
      "Epoch 10/10\n",
      "1609/1609 [==============================] - 10s 6ms/step - loss: 0.7234 - accuracy: 0.5948 - val_loss: 0.6897 - val_accuracy: 0.5531\n"
     ]
    }
   ],
   "source": [
    "dropout_model.compile(optimizer='adam', loss='binary_crossentropy', metrics=['accuracy'])\n",
    "train = dropout_model.fit(x=X_train, y=y_train, batch_size = 128, epochs = 10,\n",
    "                                  validation_split=0.1)"
   ]
  },
  {
   "cell_type": "code",
   "execution_count": 219,
   "metadata": {},
   "outputs": [
    {
     "name": "stdout",
     "output_type": "stream",
     "text": [
      "199/199 [==============================] - 0s 1ms/step\n",
      "Total loss:  0.6814699107079051\n",
      "Test accuracy:  0.6030150651931763\n"
     ]
    }
   ],
   "source": [
    "test_eval = dropout_model.evaluate(X_test, y_test, verbose = 1)\n",
    "print('Total loss: ', test_eval[0])\n",
    "print('Test accuracy: ', test_eval[1])"
   ]
  },
  {
   "cell_type": "code",
   "execution_count": null,
   "metadata": {},
   "outputs": [],
   "source": []
  }
 ],
 "metadata": {
  "colab": {
   "collapsed_sections": [],
   "name": "Untitled1.ipynb",
   "provenance": []
  },
  "kernelspec": {
   "display_name": "Python 3",
   "language": "python",
   "name": "python3"
  },
  "language_info": {
   "codemirror_mode": {
    "name": "ipython",
    "version": 3
   },
   "file_extension": ".py",
   "mimetype": "text/x-python",
   "name": "python",
   "nbconvert_exporter": "python",
   "pygments_lexer": "ipython3",
   "version": "3.7.3"
  }
 },
 "nbformat": 4,
 "nbformat_minor": 1
}
