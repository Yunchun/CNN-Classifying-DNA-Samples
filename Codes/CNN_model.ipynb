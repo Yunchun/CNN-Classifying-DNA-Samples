{
 "cells": [
  {
   "cell_type": "code",
   "execution_count": 4,
   "metadata": {
    "colab": {
     "base_uri": "https://localhost:8080/",
     "height": 52
    },
    "colab_type": "code",
    "id": "u9JMml_-61Tw",
    "outputId": "fb92e208-c113-42ce-e721-4315bcdd1ad5",
    "scrolled": true
   },
   "outputs": [
    {
     "name": "stdout",
     "output_type": "stream",
     "text": [
      "Requirement already satisfied: biopython in /usr/local/lib/python3.6/dist-packages (1.76)\n",
      "Requirement already satisfied: numpy in /usr/local/lib/python3.6/dist-packages (from biopython) (1.18.3)\n"
     ]
    }
   ],
   "source": [
    "pip install biopython\n"
   ]
  },
  {
   "cell_type": "code",
   "execution_count": 0,
   "metadata": {
    "colab": {},
    "colab_type": "code",
    "id": "Gv1i-F4L61T6"
   },
   "outputs": [],
   "source": [
    "import Bio"
   ]
  },
  {
   "cell_type": "code",
   "execution_count": 1,
   "metadata": {
    "colab": {},
    "colab_type": "code",
    "id": "loefV3kB61UB"
   },
   "outputs": [],
   "source": [
    "from Bio import SeqIO\n",
    "for seq_record in SeqIO.parse('D:\\GRCh38.primary_assembly.genome.fa', 'fasta'):\n",
    "    if (seq_record.id == 'chr1'):\n",
    "        my_seq_id = seq_record.id\n",
    "        my_seq = (seq_record.seq)\n",
    "        my_seq_len = len(seq_record)\n",
    "        break"
   ]
  },
  {
   "cell_type": "code",
   "execution_count": 2,
   "metadata": {
    "colab": {
     "base_uri": "https://localhost:8080/",
     "height": 35
    },
    "colab_type": "code",
    "id": "_t9w9t_K61UH",
    "outputId": "f69e236b-776a-4ab5-bbec-e891b117cffb"
   },
   "outputs": [
    {
     "data": {
      "text/plain": [
       "'chr1'"
      ]
     },
     "execution_count": 2,
     "metadata": {},
     "output_type": "execute_result"
    }
   ],
   "source": [
    "my_seq_id "
   ]
  },
  {
   "cell_type": "code",
   "execution_count": 3,
   "metadata": {
    "colab": {
     "base_uri": "https://localhost:8080/",
     "height": 35
    },
    "colab_type": "code",
    "id": "esXV7oOU61UP",
    "outputId": "8a0e86e9-1f39-4401-eb0e-f7968682afd2"
   },
   "outputs": [
    {
     "data": {
      "text/plain": [
       "'N'"
      ]
     },
     "execution_count": 3,
     "metadata": {},
     "output_type": "execute_result"
    }
   ],
   "source": [
    "my_seq[0]"
   ]
  },
  {
   "cell_type": "code",
   "execution_count": 27,
   "metadata": {
    "colab": {
     "base_uri": "https://localhost:8080/",
     "height": 35
    },
    "colab_type": "code",
    "id": "I_fq7lZs61UW",
    "outputId": "248942bd-2983-49a5-9b25-c8d70bfbe7ae"
   },
   "outputs": [
    {
     "data": {
      "text/plain": [
       "248956422"
      ]
     },
     "execution_count": 27,
     "metadata": {},
     "output_type": "execute_result"
    }
   ],
   "source": [
    "my_seq_len"
   ]
  },
  {
   "cell_type": "code",
   "execution_count": 6,
   "metadata": {
    "colab": {},
    "colab_type": "code",
    "id": "Jg76Jnwn61Uc"
   },
   "outputs": [],
   "source": [
    "import pandas as pd"
   ]
  },
  {
   "cell_type": "code",
   "execution_count": 28,
   "metadata": {
    "colab": {},
    "colab_type": "code",
    "id": "p6MLLRoz61Uh"
   },
   "outputs": [],
   "source": [
    "col_index = ['chrom', 'chromStart', 'chromEnd', 'name', 'score', 'strand', \\\n",
    "            'signalValue', 'pValue', 'qValue', 'peak']\n",
    "C1_narrowPeak = pd.read_csv('C1.csv', sep = '\\t')"
   ]
  },
  {
   "cell_type": "code",
   "execution_count": 29,
   "metadata": {
    "colab": {},
    "colab_type": "code",
    "id": "t_n-RynT61Ul"
   },
   "outputs": [],
   "source": [
    "C1_narrowPeak.columns = col_index\n",
    "chr1 = C1_narrowPeak[(C1_narrowPeak.chrom == 'chr1')]\n",
    "chr1_start = list(chr1.iloc[:, 1])\n",
    "chr1_end = list(chr1.iloc[:,2])"
   ]
  },
  {
   "cell_type": "code",
   "execution_count": 30,
   "metadata": {
    "colab": {},
    "colab_type": "code",
    "id": "PzWfqQeD61Uo"
   },
   "outputs": [],
   "source": [
    "for i in range(len(chr1_start)):\n",
    "    center = chr1_start[i] + (chr1_end[i] - chr1_start[i])//2\n",
    "    chr1_start[i] = center - 250\n",
    "    chr1_end[i] = center + 250"
   ]
  },
  {
   "cell_type": "code",
   "execution_count": 31,
   "metadata": {
    "colab": {},
    "colab_type": "code",
    "id": "RqajF6qf61Ur"
   },
   "outputs": [],
   "source": [
    "C1_chr1_dna_seqs = []\n",
    "for start, end in zip(chr1_start, chr1_end):\n",
    "    C1_chr1_dna_seqs.append(str(my_seq)[start: end])"
   ]
  },
  {
   "cell_type": "code",
   "execution_count": 32,
   "metadata": {
    "colab": {
     "base_uri": "https://localhost:8080/",
     "height": 55
    },
    "colab_type": "code",
    "id": "3A3aJDEz61Uu",
    "outputId": "1e2b570a-46d5-48cd-a31e-68d61d656a90"
   },
   "outputs": [
    {
     "data": {
      "text/plain": [
       "'TACTATAAAGCAACTCAGTATGGTCTGAACTATCAGAGAGCTACATGGAGAAATAGCTACTGCTAAACAGACCTCTCTGCTGATGTTTTTCCCAGCTACTTAAGTCCTGAAAATTTCCACAAGGCTGAGTCAAATCTGCGTTTCATCATCTATAAGAAAGGTACCTATCGAGAACACCCTGCTGGCCAGTGTGTAAATATCTAAAGGAGGACTCAGAAAACACCGGGGAAGTCCAGCCTGCACGTGGTGGCTGGGCTTCAGTGAAGCATGCAGCACAACAGGAGTTGTAAGTAGTAGTTACATCAGCAGCCCTGGAAATTCTGCTCAGAACCAAACTGAACAAATAACATTATCTAAGGCTTACAATTATTTAACTCCCTAAATTTTCTGTCCTCCCAGTAGCACTTTCAAATGCCTAAAAGCAATTAAAAGAAACATTTTTCCAATGTCTCACAGAACCATTAGAAACACAAAATTAATAGCTTCATAAACTATAGCTT'"
      ]
     },
     "execution_count": 32,
     "metadata": {},
     "output_type": "execute_result"
    }
   ],
   "source": [
    "C1_chr1_dna_seqs[0]"
   ]
  },
  {
   "cell_type": "code",
   "execution_count": 33,
   "metadata": {
    "colab": {},
    "colab_type": "code",
    "id": "1I_p7rIy61Ux"
   },
   "outputs": [],
   "source": [
    "C2_narrowPeak = pd.read_csv('C2.csv', sep = '\\t')\n",
    "C2_narrowPeak.columns = col_index\n",
    "chr1 = C2_narrowPeak[(C2_narrowPeak.chrom == 'chr1')]\n",
    "chr1_start = list(chr1.iloc[:, 1])\n",
    "chr1_end = list(chr1.iloc[:,2])"
   ]
  },
  {
   "cell_type": "code",
   "execution_count": 34,
   "metadata": {
    "colab": {},
    "colab_type": "code",
    "id": "OOX7F1uS61U0"
   },
   "outputs": [],
   "source": [
    "for i in range(len(chr1_start)):\n",
    "    center= chr1_start[i] + (chr1_end[i] - chr1_start[i])//2\n",
    "    chr1_start[i] = center - 250\n",
    "    chr1_end[i] = center + 250"
   ]
  },
  {
   "cell_type": "code",
   "execution_count": 35,
   "metadata": {
    "colab": {},
    "colab_type": "code",
    "id": "ScOQSguP61U2"
   },
   "outputs": [],
   "source": [
    "C2_chr1_dna_seqs = []\n",
    "for start, end in zip(chr1_start, chr1_end):\n",
    "    C2_chr1_dna_seqs.append(str(my_seq)[start: end])"
   ]
  },
  {
   "cell_type": "code",
   "execution_count": 36,
   "metadata": {
    "colab": {
     "base_uri": "https://localhost:8080/",
     "height": 55
    },
    "colab_type": "code",
    "id": "K2rLwCNI61U4",
    "outputId": "d09405f4-fa5b-4107-8ca8-3d876db4cceb"
   },
   "outputs": [
    {
     "data": {
      "text/plain": [
       "'TGCATAGGGAGTTTATTCATTCAATTAAGTTAAAACATTAGATAACATGGTAAATTCAAAAAGTAGCAAAGACACATTTTGTTTCTGTCTCTTTAACTGAGAAAACTGGTTGATGCCTCCTGTGTGTGAGCACCATGTAGCTGATGCAGATACAGAAACTGAGGTTTTCTTACTTGCTGCCACTGGCCCCGGCACTGGAGGTTGGCTCTGGGAGGGCAGGGTGTCTGTTTTTCTTACCACTCAGCAAGTGCCACACAAATATAAATGGGTGTCTCTGCCCTCTAGTGGATTCTGGCAGGCACTGGGAGCAAATGTGACTATAAAAAAAGTGAAAGATGTAAAAAATACACATTATCTCCAGAGGGGATTTAATTCTAACGGAGGGCTTTTTTTTTTCTTTTTCAAATGGGCTGATGGGTAAAAATGCAAGACTGGATATGTTGGAAAAAAGCACATTGCATTTGCCTTTTGGCATCTGTGATGACTGAGTCCTTCCTCAG'"
      ]
     },
     "execution_count": 36,
     "metadata": {},
     "output_type": "execute_result"
    }
   ],
   "source": [
    "C2_chr1_dna_seqs[len(C2_chr1_dna_seqs)-1]"
   ]
  },
  {
   "cell_type": "code",
   "execution_count": 16,
   "metadata": {
    "colab": {},
    "colab_type": "code",
    "id": "kVtyoUso61U7"
   },
   "outputs": [],
   "source": [
    "from sklearn.preprocessing import OneHotEncoder\n",
    "from sklearn.preprocessing import LabelEncoder\n",
    "from numpy import array\n",
    "import warnings\n",
    "# ignore warnings\n",
    "warnings.filterwarnings(\"ignore\")"
   ]
  },
  {
   "cell_type": "code",
   "execution_count": 50,
   "metadata": {
    "colab": {},
    "colab_type": "code",
    "id": "_IvLWyKZ61U9"
   },
   "outputs": [],
   "source": [
    "chr1_dna_seqs = C1_chr1_dna_seqs + C2_chr1_dna_seqs\n",
    "labels = [True]* len(C1_chr1_dna_seqs) + [False]* len(C2_chr1_dna_seqs)"
   ]
  },
  {
   "cell_type": "code",
   "execution_count": 61,
   "metadata": {
    "colab": {},
    "colab_type": "code",
    "id": "x4JbeX7e61VA"
   },
   "outputs": [],
   "source": [
    "dna_data = pd.DataFrame({'sequences': chr1_dna_seqs, 'label': labels})"
   ]
  },
  {
   "cell_type": "code",
   "execution_count": 62,
   "metadata": {
    "colab": {
     "base_uri": "https://localhost:8080/",
     "height": 200
    },
    "colab_type": "code",
    "id": "lK8YIKJm61VC",
    "outputId": "71c59085-087f-415f-ab62-b0f85c44f7f6"
   },
   "outputs": [
    {
     "data": {
      "text/html": [
       "<div>\n",
       "<style scoped>\n",
       "    .dataframe tbody tr th:only-of-type {\n",
       "        vertical-align: middle;\n",
       "    }\n",
       "\n",
       "    .dataframe tbody tr th {\n",
       "        vertical-align: top;\n",
       "    }\n",
       "\n",
       "    .dataframe thead th {\n",
       "        text-align: right;\n",
       "    }\n",
       "</style>\n",
       "<table border=\"1\" class=\"dataframe\">\n",
       "  <thead>\n",
       "    <tr style=\"text-align: right;\">\n",
       "      <th></th>\n",
       "      <th>sequences</th>\n",
       "      <th>label</th>\n",
       "    </tr>\n",
       "  </thead>\n",
       "  <tbody>\n",
       "    <tr>\n",
       "      <th>0</th>\n",
       "      <td>TACTATAAAGCAACTCAGTATGGTCTGAACTATCAGAGAGCTACAT...</td>\n",
       "      <td>True</td>\n",
       "    </tr>\n",
       "    <tr>\n",
       "      <th>1</th>\n",
       "      <td>CTGAGGCCGCGCGCGATAGGATGGGCGGACGGTGAAGAGAACTAGG...</td>\n",
       "      <td>True</td>\n",
       "    </tr>\n",
       "    <tr>\n",
       "      <th>2</th>\n",
       "      <td>TGGGAGCCACAGTGTGGAGAGAAACAGAAGAGGGAGGAGAGGGCGC...</td>\n",
       "      <td>True</td>\n",
       "    </tr>\n",
       "    <tr>\n",
       "      <th>3</th>\n",
       "      <td>GTGCCCCACAGCAGGACCACGAGCAGGGCCAAGGTGTCTCCAAGGT...</td>\n",
       "      <td>True</td>\n",
       "    </tr>\n",
       "    <tr>\n",
       "      <th>4</th>\n",
       "      <td>CGGGACAAGGCTGCTGGCCTGGAAGGTAGTCACGTGGAGAACCGCA...</td>\n",
       "      <td>True</td>\n",
       "    </tr>\n",
       "  </tbody>\n",
       "</table>\n",
       "</div>"
      ],
      "text/plain": [
       "                                           sequences  label\n",
       "0  TACTATAAAGCAACTCAGTATGGTCTGAACTATCAGAGAGCTACAT...   True\n",
       "1  CTGAGGCCGCGCGCGATAGGATGGGCGGACGGTGAAGAGAACTAGG...   True\n",
       "2  TGGGAGCCACAGTGTGGAGAGAAACAGAAGAGGGAGGAGAGGGCGC...   True\n",
       "3  GTGCCCCACAGCAGGACCACGAGCAGGGCCAAGGTGTCTCCAAGGT...   True\n",
       "4  CGGGACAAGGCTGCTGGCCTGGAAGGTAGTCACGTGGAGAACCGCA...   True"
      ]
     },
     "execution_count": 62,
     "metadata": {},
     "output_type": "execute_result"
    }
   ],
   "source": [
    "dna_data.head()"
   ]
  },
  {
   "cell_type": "code",
   "execution_count": 53,
   "metadata": {
    "colab": {},
    "colab_type": "code",
    "id": "e60AEAHi61VE"
   },
   "outputs": [],
   "source": [
    "letter_mapping = {'A': 0, 'C': 1, 'G': 2, 'T': 3}\n",
    "def label_encode(seqs):\n",
    "    return [letter_mapping[letter] for letter in seqs.strip()]"
   ]
  },
  {
   "cell_type": "code",
   "execution_count": 63,
   "metadata": {
    "colab": {
     "base_uri": "https://localhost:8080/",
     "height": 200
    },
    "colab_type": "code",
    "id": "UQ5-CKbt61VG",
    "outputId": "e831b1f5-7bea-4d7a-951d-430da6ed6480"
   },
   "outputs": [
    {
     "data": {
      "text/html": [
       "<div>\n",
       "<style scoped>\n",
       "    .dataframe tbody tr th:only-of-type {\n",
       "        vertical-align: middle;\n",
       "    }\n",
       "\n",
       "    .dataframe tbody tr th {\n",
       "        vertical-align: top;\n",
       "    }\n",
       "\n",
       "    .dataframe thead th {\n",
       "        text-align: right;\n",
       "    }\n",
       "</style>\n",
       "<table border=\"1\" class=\"dataframe\">\n",
       "  <thead>\n",
       "    <tr style=\"text-align: right;\">\n",
       "      <th></th>\n",
       "      <th>sequences</th>\n",
       "      <th>label</th>\n",
       "      <th>sequence_list</th>\n",
       "    </tr>\n",
       "  </thead>\n",
       "  <tbody>\n",
       "    <tr>\n",
       "      <th>0</th>\n",
       "      <td>TACTATAAAGCAACTCAGTATGGTCTGAACTATCAGAGAGCTACAT...</td>\n",
       "      <td>True</td>\n",
       "      <td>[3, 0, 1, 3, 0, 3, 0, 0, 0, 2, 1, 0, 0, 1, 3, ...</td>\n",
       "    </tr>\n",
       "    <tr>\n",
       "      <th>1</th>\n",
       "      <td>CTGAGGCCGCGCGCGATAGGATGGGCGGACGGTGAAGAGAACTAGG...</td>\n",
       "      <td>True</td>\n",
       "      <td>[1, 3, 2, 0, 2, 2, 1, 1, 2, 1, 2, 1, 2, 1, 2, ...</td>\n",
       "    </tr>\n",
       "    <tr>\n",
       "      <th>2</th>\n",
       "      <td>TGGGAGCCACAGTGTGGAGAGAAACAGAAGAGGGAGGAGAGGGCGC...</td>\n",
       "      <td>True</td>\n",
       "      <td>[3, 2, 2, 2, 0, 2, 1, 1, 0, 1, 0, 2, 3, 2, 3, ...</td>\n",
       "    </tr>\n",
       "    <tr>\n",
       "      <th>3</th>\n",
       "      <td>GTGCCCCACAGCAGGACCACGAGCAGGGCCAAGGTGTCTCCAAGGT...</td>\n",
       "      <td>True</td>\n",
       "      <td>[2, 3, 2, 1, 1, 1, 1, 0, 1, 0, 2, 1, 0, 2, 2, ...</td>\n",
       "    </tr>\n",
       "    <tr>\n",
       "      <th>4</th>\n",
       "      <td>CGGGACAAGGCTGCTGGCCTGGAAGGTAGTCACGTGGAGAACCGCA...</td>\n",
       "      <td>True</td>\n",
       "      <td>[1, 2, 2, 2, 0, 1, 0, 0, 2, 2, 1, 3, 2, 1, 3, ...</td>\n",
       "    </tr>\n",
       "  </tbody>\n",
       "</table>\n",
       "</div>"
      ],
      "text/plain": [
       "                                           sequences  label  \\\n",
       "0  TACTATAAAGCAACTCAGTATGGTCTGAACTATCAGAGAGCTACAT...   True   \n",
       "1  CTGAGGCCGCGCGCGATAGGATGGGCGGACGGTGAAGAGAACTAGG...   True   \n",
       "2  TGGGAGCCACAGTGTGGAGAGAAACAGAAGAGGGAGGAGAGGGCGC...   True   \n",
       "3  GTGCCCCACAGCAGGACCACGAGCAGGGCCAAGGTGTCTCCAAGGT...   True   \n",
       "4  CGGGACAAGGCTGCTGGCCTGGAAGGTAGTCACGTGGAGAACCGCA...   True   \n",
       "\n",
       "                                       sequence_list  \n",
       "0  [3, 0, 1, 3, 0, 3, 0, 0, 0, 2, 1, 0, 0, 1, 3, ...  \n",
       "1  [1, 3, 2, 0, 2, 2, 1, 1, 2, 1, 2, 1, 2, 1, 2, ...  \n",
       "2  [3, 2, 2, 2, 0, 2, 1, 1, 0, 1, 0, 2, 3, 2, 3, ...  \n",
       "3  [2, 3, 2, 1, 1, 1, 1, 0, 1, 0, 2, 1, 0, 2, 2, ...  \n",
       "4  [1, 2, 2, 2, 0, 1, 0, 0, 2, 2, 1, 3, 2, 1, 3, ...  "
      ]
     },
     "execution_count": 63,
     "metadata": {},
     "output_type": "execute_result"
    }
   ],
   "source": [
    "dna_data['sequence_list'] = dna_data['sequences'].apply(label_encode)\n",
    "dna_data.head()"
   ]
  },
  {
   "cell_type": "code",
   "execution_count": 55,
   "metadata": {
    "colab": {},
    "colab_type": "code",
    "id": "zxs0YojD61VI"
   },
   "outputs": [],
   "source": [
    "import numpy as np"
   ]
  },
  {
   "cell_type": "code",
   "execution_count": 64,
   "metadata": {
    "colab": {},
    "colab_type": "code",
    "id": "8USnAKoB61VK"
   },
   "outputs": [],
   "source": [
    "sequence_list = np.array(dna_data['sequence_list'].values.tolist())"
   ]
  },
  {
   "cell_type": "code",
   "execution_count": 65,
   "metadata": {
    "colab": {},
    "colab_type": "code",
    "id": "IobNeVmJ61VP"
   },
   "outputs": [],
   "source": [
    "onehot_encoder = OneHotEncoder(sparse = False)\n",
    "sequence_encoded = onehot_encoder.fit_transform(sequence_list)"
   ]
  },
  {
   "cell_type": "code",
   "execution_count": 66,
   "metadata": {
    "colab": {},
    "colab_type": "code",
    "id": "kJ-V1gya61VT"
   },
   "outputs": [],
   "source": [
    "dna_data['sequence_encoded'] = sequence_encoded.tolist()"
   ]
  },
  {
   "cell_type": "code",
   "execution_count": 67,
   "metadata": {
    "colab": {},
    "colab_type": "code",
    "id": "G1oUwR1at1xW"
   },
   "outputs": [
    {
     "data": {
      "text/html": [
       "<div>\n",
       "<style scoped>\n",
       "    .dataframe tbody tr th:only-of-type {\n",
       "        vertical-align: middle;\n",
       "    }\n",
       "\n",
       "    .dataframe tbody tr th {\n",
       "        vertical-align: top;\n",
       "    }\n",
       "\n",
       "    .dataframe thead th {\n",
       "        text-align: right;\n",
       "    }\n",
       "</style>\n",
       "<table border=\"1\" class=\"dataframe\">\n",
       "  <thead>\n",
       "    <tr style=\"text-align: right;\">\n",
       "      <th></th>\n",
       "      <th>sequences</th>\n",
       "      <th>label</th>\n",
       "      <th>sequence_list</th>\n",
       "      <th>sequence_encoded</th>\n",
       "    </tr>\n",
       "  </thead>\n",
       "  <tbody>\n",
       "    <tr>\n",
       "      <th>8830</th>\n",
       "      <td>CTAATTGATGTTCAGCTGCAGTGAGACACAGCCACCTGTGCGTCCA...</td>\n",
       "      <td>True</td>\n",
       "      <td>[1, 3, 0, 0, 3, 3, 2, 0, 3, 2, 3, 3, 1, 0, 2, ...</td>\n",
       "      <td>[0.0, 1.0, 0.0, 0.0, 0.0, 0.0, 0.0, 1.0, 1.0, ...</td>\n",
       "    </tr>\n",
       "    <tr>\n",
       "      <th>23207</th>\n",
       "      <td>CAGAGTTCACGATGAGATAAGTCTAAAAGAACGTAACATAACTGTC...</td>\n",
       "      <td>False</td>\n",
       "      <td>[1, 0, 2, 0, 2, 3, 3, 1, 0, 1, 2, 0, 3, 2, 0, ...</td>\n",
       "      <td>[0.0, 1.0, 0.0, 0.0, 1.0, 0.0, 0.0, 0.0, 0.0, ...</td>\n",
       "    </tr>\n",
       "    <tr>\n",
       "      <th>11244</th>\n",
       "      <td>GCCTCGCTGACCTTATGATTCAATGAAGGAATTGGAGAAATAAGCA...</td>\n",
       "      <td>True</td>\n",
       "      <td>[2, 1, 1, 3, 1, 2, 1, 3, 2, 0, 1, 1, 3, 3, 0, ...</td>\n",
       "      <td>[0.0, 0.0, 1.0, 0.0, 0.0, 1.0, 0.0, 0.0, 0.0, ...</td>\n",
       "    </tr>\n",
       "    <tr>\n",
       "      <th>20786</th>\n",
       "      <td>GGCACAGGAAGCTCCTGGAAAACTGAATAAAAACAAATGCTCAGAG...</td>\n",
       "      <td>False</td>\n",
       "      <td>[2, 2, 1, 0, 1, 0, 2, 2, 0, 0, 2, 1, 3, 1, 1, ...</td>\n",
       "      <td>[0.0, 0.0, 1.0, 0.0, 0.0, 0.0, 1.0, 0.0, 0.0, ...</td>\n",
       "    </tr>\n",
       "    <tr>\n",
       "      <th>621</th>\n",
       "      <td>TTTCATCTCCCCCGGGGGATGTCTCTCTTGTTCCTCCCCTGACATT...</td>\n",
       "      <td>True</td>\n",
       "      <td>[3, 3, 3, 1, 0, 3, 1, 3, 1, 1, 1, 1, 1, 2, 2, ...</td>\n",
       "      <td>[0.0, 0.0, 0.0, 1.0, 0.0, 0.0, 0.0, 1.0, 0.0, ...</td>\n",
       "    </tr>\n",
       "  </tbody>\n",
       "</table>\n",
       "</div>"
      ],
      "text/plain": [
       "                                               sequences  label  \\\n",
       "8830   CTAATTGATGTTCAGCTGCAGTGAGACACAGCCACCTGTGCGTCCA...   True   \n",
       "23207  CAGAGTTCACGATGAGATAAGTCTAAAAGAACGTAACATAACTGTC...  False   \n",
       "11244  GCCTCGCTGACCTTATGATTCAATGAAGGAATTGGAGAAATAAGCA...   True   \n",
       "20786  GGCACAGGAAGCTCCTGGAAAACTGAATAAAAACAAATGCTCAGAG...  False   \n",
       "621    TTTCATCTCCCCCGGGGGATGTCTCTCTTGTTCCTCCCCTGACATT...   True   \n",
       "\n",
       "                                           sequence_list  \\\n",
       "8830   [1, 3, 0, 0, 3, 3, 2, 0, 3, 2, 3, 3, 1, 0, 2, ...   \n",
       "23207  [1, 0, 2, 0, 2, 3, 3, 1, 0, 1, 2, 0, 3, 2, 0, ...   \n",
       "11244  [2, 1, 1, 3, 1, 2, 1, 3, 2, 0, 1, 1, 3, 3, 0, ...   \n",
       "20786  [2, 2, 1, 0, 1, 0, 2, 2, 0, 0, 2, 1, 3, 1, 1, ...   \n",
       "621    [3, 3, 3, 1, 0, 3, 1, 3, 1, 1, 1, 1, 1, 2, 2, ...   \n",
       "\n",
       "                                        sequence_encoded  \n",
       "8830   [0.0, 1.0, 0.0, 0.0, 0.0, 0.0, 0.0, 1.0, 1.0, ...  \n",
       "23207  [0.0, 1.0, 0.0, 0.0, 1.0, 0.0, 0.0, 0.0, 0.0, ...  \n",
       "11244  [0.0, 0.0, 1.0, 0.0, 0.0, 1.0, 0.0, 0.0, 0.0, ...  \n",
       "20786  [0.0, 0.0, 1.0, 0.0, 0.0, 0.0, 1.0, 0.0, 0.0, ...  \n",
       "621    [0.0, 0.0, 0.0, 1.0, 0.0, 0.0, 0.0, 1.0, 0.0, ...  "
      ]
     },
     "execution_count": 67,
     "metadata": {},
     "output_type": "execute_result"
    }
   ],
   "source": [
    "dna_data = dna_data.sample(frac = 1, replace = False, axis = 0)\n",
    "dna_data.head()"
   ]
  },
  {
   "cell_type": "code",
   "execution_count": 68,
   "metadata": {
    "colab": {
     "base_uri": "https://localhost:8080/",
     "height": 411
    },
    "colab_type": "code",
    "id": "Ns3VoJQGAvUL",
    "outputId": "7d307521-3d86-4dab-aef3-14254b848903"
   },
   "outputs": [
    {
     "data": {
      "text/html": [
       "<div>\n",
       "<style scoped>\n",
       "    .dataframe tbody tr th:only-of-type {\n",
       "        vertical-align: middle;\n",
       "    }\n",
       "\n",
       "    .dataframe tbody tr th {\n",
       "        vertical-align: top;\n",
       "    }\n",
       "\n",
       "    .dataframe thead th {\n",
       "        text-align: right;\n",
       "    }\n",
       "</style>\n",
       "<table border=\"1\" class=\"dataframe\">\n",
       "  <thead>\n",
       "    <tr style=\"text-align: right;\">\n",
       "      <th></th>\n",
       "      <th>label</th>\n",
       "      <th>sequence_encoded</th>\n",
       "    </tr>\n",
       "  </thead>\n",
       "  <tbody>\n",
       "    <tr>\n",
       "      <th>8830</th>\n",
       "      <td>True</td>\n",
       "      <td>[0.0, 1.0, 0.0, 0.0, 0.0, 0.0, 0.0, 1.0, 1.0, ...</td>\n",
       "    </tr>\n",
       "    <tr>\n",
       "      <th>23207</th>\n",
       "      <td>False</td>\n",
       "      <td>[0.0, 1.0, 0.0, 0.0, 1.0, 0.0, 0.0, 0.0, 0.0, ...</td>\n",
       "    </tr>\n",
       "    <tr>\n",
       "      <th>11244</th>\n",
       "      <td>True</td>\n",
       "      <td>[0.0, 0.0, 1.0, 0.0, 0.0, 1.0, 0.0, 0.0, 0.0, ...</td>\n",
       "    </tr>\n",
       "    <tr>\n",
       "      <th>20786</th>\n",
       "      <td>False</td>\n",
       "      <td>[0.0, 0.0, 1.0, 0.0, 0.0, 0.0, 1.0, 0.0, 0.0, ...</td>\n",
       "    </tr>\n",
       "    <tr>\n",
       "      <th>621</th>\n",
       "      <td>True</td>\n",
       "      <td>[0.0, 0.0, 0.0, 1.0, 0.0, 0.0, 0.0, 1.0, 0.0, ...</td>\n",
       "    </tr>\n",
       "  </tbody>\n",
       "</table>\n",
       "</div>"
      ],
      "text/plain": [
       "       label                                   sequence_encoded\n",
       "8830    True  [0.0, 1.0, 0.0, 0.0, 0.0, 0.0, 0.0, 1.0, 1.0, ...\n",
       "23207  False  [0.0, 1.0, 0.0, 0.0, 1.0, 0.0, 0.0, 0.0, 0.0, ...\n",
       "11244   True  [0.0, 0.0, 1.0, 0.0, 0.0, 1.0, 0.0, 0.0, 0.0, ...\n",
       "20786  False  [0.0, 0.0, 1.0, 0.0, 0.0, 0.0, 1.0, 0.0, 0.0, ...\n",
       "621     True  [0.0, 0.0, 0.0, 1.0, 0.0, 0.0, 0.0, 1.0, 0.0, ..."
      ]
     },
     "execution_count": 68,
     "metadata": {},
     "output_type": "execute_result"
    }
   ],
   "source": [
    "dna_data = dna_data.drop(['sequences', 'sequence_list'], axis = 1)\n",
    "dna_data.head()"
   ]
  },
  {
   "cell_type": "code",
   "execution_count": 69,
   "metadata": {
    "colab": {
     "base_uri": "https://localhost:8080/",
     "height": 35
    },
    "colab_type": "code",
    "id": "zedppaW2dDHY",
    "outputId": "71456f17-c4ee-445f-8632-fc11c758fde5"
   },
   "outputs": [
    {
     "data": {
      "text/plain": [
       "array([ True, False,  True, ...,  True,  True,  True])"
      ]
     },
     "execution_count": 69,
     "metadata": {},
     "output_type": "execute_result"
    }
   ],
   "source": [
    "labels = dna_data['label'].values\n",
    "labels"
   ]
  },
  {
   "cell_type": "code",
   "execution_count": 70,
   "metadata": {
    "colab": {
     "base_uri": "https://localhost:8080/",
     "height": 35
    },
    "colab_type": "code",
    "id": "siZg0sbIDg2_",
    "outputId": "b54dd080-d9f8-41d3-ca42-e7dda8a757ea"
   },
   "outputs": [
    {
     "data": {
      "text/plain": [
       "(29132, 2000)"
      ]
     },
     "execution_count": 70,
     "metadata": {},
     "output_type": "execute_result"
    }
   ],
   "source": [
    "sequence_encoded.shape"
   ]
  },
  {
   "cell_type": "code",
   "execution_count": 71,
   "metadata": {
    "colab": {},
    "colab_type": "code",
    "id": "7O0_xANZFRf7"
   },
   "outputs": [],
   "source": [
    "sequence_encoded = sequence_encoded.reshape(len(sequence_encoded), 1, 500, 4)"
   ]
  },
  {
   "cell_type": "code",
   "execution_count": 72,
   "metadata": {
    "colab": {
     "base_uri": "https://localhost:8080/",
     "height": 995
    },
    "colab_type": "code",
    "id": "u4GHi_5lFttW",
    "outputId": "ba4daf6f-8e7d-4b41-eb53-c58a47147d9a"
   },
   "outputs": [
    {
     "data": {
      "text/plain": [
       "(29132, 1, 500, 4)"
      ]
     },
     "execution_count": 72,
     "metadata": {},
     "output_type": "execute_result"
    }
   ],
   "source": [
    "sequence_encoded.shape"
   ]
  },
  {
   "cell_type": "code",
   "execution_count": 73,
   "metadata": {
    "colab": {
     "base_uri": "https://localhost:8080/",
     "height": 35
    },
    "colab_type": "code",
    "id": "jnsopOjVjn-4",
    "outputId": "7bee50c9-abbc-492c-97d1-1eeafe0a04eb"
   },
   "outputs": [
    {
     "data": {
      "text/plain": [
       "array([ True, False,  True, ...,  True,  True,  True])"
      ]
     },
     "execution_count": 73,
     "metadata": {},
     "output_type": "execute_result"
    }
   ],
   "source": [
    "labels.reshape(29132, 1)\n",
    "labels"
   ]
  },
  {
   "cell_type": "code",
   "execution_count": 74,
   "metadata": {
    "colab": {},
    "colab_type": "code",
    "id": "xYE1aFY0lOd0"
   },
   "outputs": [],
   "source": [
    "from sklearn.model_selection import train_test_split\n",
    "X_train, X_test, y_train, y_test = train_test_split(sequence_encoded, labels, \n",
    "                                test_size = 0.1)"
   ]
  },
  {
   "cell_type": "code",
   "execution_count": 76,
   "metadata": {
    "colab": {
     "base_uri": "https://localhost:8080/",
     "height": 35
    },
    "colab_type": "code",
    "id": "pvjsqnPlWOcI",
    "outputId": "5e725517-6c54-4b1d-a27c-4eb214035092"
   },
   "outputs": [
    {
     "data": {
      "text/plain": [
       "((26218,), (2914,))"
      ]
     },
     "execution_count": 76,
     "metadata": {},
     "output_type": "execute_result"
    }
   ],
   "source": [
    "y_train.shape, y_test.shape"
   ]
  },
  {
   "cell_type": "code",
   "execution_count": 77,
   "metadata": {
    "colab": {
     "base_uri": "https://localhost:8080/",
     "height": 35
    },
    "colab_type": "code",
    "id": "bt5poF1OZIW2",
    "outputId": "1e9204f4-eea9-4663-e248-c2b1b0d4f166"
   },
   "outputs": [
    {
     "data": {
      "text/plain": [
       "((26218, 1), (2914, 1))"
      ]
     },
     "execution_count": 77,
     "metadata": {},
     "output_type": "execute_result"
    }
   ],
   "source": [
    "y_train.reshape(26218, 1).shape, y_test.reshape(2914,1).shape"
   ]
  },
  {
   "cell_type": "code",
   "execution_count": 78,
   "metadata": {
    "colab": {
     "base_uri": "https://localhost:8080/",
     "height": 35
    },
    "colab_type": "code",
    "id": "rI-nAQCeWYo7",
    "outputId": "6e119202-c4ef-420b-a3c5-7d0221fb22cf"
   },
   "outputs": [
    {
     "data": {
      "text/plain": [
       "(26218, 1, 500, 4)"
      ]
     },
     "execution_count": 78,
     "metadata": {},
     "output_type": "execute_result"
    }
   ],
   "source": [
    "X_train.shape"
   ]
  },
  {
   "cell_type": "code",
   "execution_count": 79,
   "metadata": {
    "colab": {},
    "colab_type": "code",
    "id": "eNFvljc-Ave0"
   },
   "outputs": [],
   "source": [
    "import tensorflow as tf"
   ]
  },
  {
   "cell_type": "code",
   "execution_count": 81,
   "metadata": {
    "colab": {
     "base_uri": "https://localhost:8080/",
     "height": 35
    },
    "colab_type": "code",
    "id": "s3w86_L6Avrj",
    "outputId": "5e614b72-3b96-4ff3-915b-7bfa20fd180d"
   },
   "outputs": [
    {
     "name": "stderr",
     "output_type": "stream",
     "text": [
      "Using TensorFlow backend.\n"
     ]
    }
   ],
   "source": [
    "#To prepare for model training, we import the necessary functions and submodules from keras\n",
    "from keras.models import Sequential\n",
    "from keras.layers.core import Dropout, Reshape, Dense, Activation, Flatten\n",
    "from keras.layers.convolutional import Conv2D, MaxPooling2D\n",
    "from keras.optimizers import Adadelta, SGD, RMSprop;\n",
    "import keras.losses;\n",
    "from keras.constraints import maxnorm;\n",
    "from keras.layers.normalization import BatchNormalization\n",
    "from keras.regularizers import l1, l2\n",
    "from keras.callbacks import EarlyStopping, History\n",
    "from keras import backend as K \n",
    "K.set_image_data_format('channels_last')"
   ]
  },
  {
   "cell_type": "code",
   "execution_count": 87,
   "metadata": {
    "colab": {},
    "colab_type": "code",
    "id": "TN4JOBU3Av3f"
   },
   "outputs": [],
   "source": [
    "model = Sequential()"
   ]
  },
  {
   "cell_type": "code",
   "execution_count": 88,
   "metadata": {
    "colab": {},
    "colab_type": "code",
    "id": "6I8uyuQaCinU"
   },
   "outputs": [],
   "source": [
    "model.add(Conv2D(filters = 15, kernel_size = (1, 10), padding = \"same\", input_shape = sequence_encoded.shape[1::]))\n",
    "model.add(BatchNormalization(axis=-1))\n",
    "model.add(Activation(\"relu\"))\n",
    "\n",
    "model.add(Conv2D(filters = 15, kernel_size = (1, 10), padding = \"same\", input_shape = sequence_encoded.shape[1::]))\n",
    "model.add(BatchNormalization(axis=-1))\n",
    "model.add(Activation(\"relu\"))\n",
    "\n",
    "model.add(Conv2D(filters = 15, kernel_size = (1, 10), padding = \"same\", input_shape = sequence_encoded.shape[1::]))\n",
    "model.add(BatchNormalization(axis=-1))\n",
    "model.add(Activation(\"relu\"))\n",
    "\n",
    "model.add(MaxPooling2D(pool_size = (1, 35)))\n",
    "model.add(Flatten())\n",
    "model.add(Dense(1))\n",
    "model.add(Activation('sigmoid'))"
   ]
  },
  {
   "cell_type": "code",
   "execution_count": 89,
   "metadata": {
    "colab": {
     "base_uri": "https://localhost:8080/",
     "height": 621
    },
    "colab_type": "code",
    "id": "mFM74auwrzQ1",
    "outputId": "99a15ace-bb0f-4ee2-8e0c-e2c0db4a4eb1"
   },
   "outputs": [
    {
     "name": "stdout",
     "output_type": "stream",
     "text": [
      "Model: \"sequential_2\"\n",
      "_________________________________________________________________\n",
      "Layer (type)                 Output Shape              Param #   \n",
      "=================================================================\n",
      "conv2d_4 (Conv2D)            (None, 1, 500, 15)        615       \n",
      "_________________________________________________________________\n",
      "batch_normalization_4 (Batch (None, 1, 500, 15)        60        \n",
      "_________________________________________________________________\n",
      "activation_5 (Activation)    (None, 1, 500, 15)        0         \n",
      "_________________________________________________________________\n",
      "conv2d_5 (Conv2D)            (None, 1, 500, 15)        2265      \n",
      "_________________________________________________________________\n",
      "batch_normalization_5 (Batch (None, 1, 500, 15)        60        \n",
      "_________________________________________________________________\n",
      "activation_6 (Activation)    (None, 1, 500, 15)        0         \n",
      "_________________________________________________________________\n",
      "conv2d_6 (Conv2D)            (None, 1, 500, 15)        2265      \n",
      "_________________________________________________________________\n",
      "batch_normalization_6 (Batch (None, 1, 500, 15)        60        \n",
      "_________________________________________________________________\n",
      "activation_7 (Activation)    (None, 1, 500, 15)        0         \n",
      "_________________________________________________________________\n",
      "max_pooling2d_2 (MaxPooling2 (None, 1, 14, 15)         0         \n",
      "_________________________________________________________________\n",
      "flatten_2 (Flatten)          (None, 210)               0         \n",
      "_________________________________________________________________\n",
      "dense_2 (Dense)              (None, 1)                 211       \n",
      "_________________________________________________________________\n",
      "activation_8 (Activation)    (None, 1)                 0         \n",
      "=================================================================\n",
      "Total params: 5,536\n",
      "Trainable params: 5,446\n",
      "Non-trainable params: 90\n",
      "_________________________________________________________________\n"
     ]
    }
   ],
   "source": [
    "model.summary()"
   ]
  },
  {
   "cell_type": "code",
   "execution_count": 90,
   "metadata": {
    "colab": {},
    "colab_type": "code",
    "id": "QRlbJCcFj3Ks"
   },
   "outputs": [],
   "source": [
    "model.compile(optimizer='adam', loss='binary_crossentropy', metrics=['accuracy'])"
   ]
  },
  {
   "cell_type": "code",
   "execution_count": 91,
   "metadata": {
    "colab": {
     "base_uri": "https://localhost:8080/",
     "height": 478
    },
    "colab_type": "code",
    "id": "o7TUDypFc5Eo",
    "outputId": "f67e9318-efb4-4984-af75-5686d544edf9"
   },
   "outputs": [
    {
     "name": "stdout",
     "output_type": "stream",
     "text": [
      "WARNING:tensorflow:From C:\\Users\\panyu\\Anaconda3\\lib\\site-packages\\tensorflow\\python\\ops\\math_ops.py:3066: to_int32 (from tensorflow.python.ops.math_ops) is deprecated and will be removed in a future version.\n",
      "Instructions for updating:\n",
      "Use tf.cast instead.\n"
     ]
    },
    {
     "name": "stderr",
     "output_type": "stream",
     "text": [
      "WARNING:tensorflow:From C:\\Users\\panyu\\Anaconda3\\lib\\site-packages\\tensorflow\\python\\ops\\math_ops.py:3066: to_int32 (from tensorflow.python.ops.math_ops) is deprecated and will be removed in a future version.\n",
      "Instructions for updating:\n",
      "Use tf.cast instead.\n"
     ]
    },
    {
     "name": "stdout",
     "output_type": "stream",
     "text": [
      "Train on 23596 samples, validate on 2622 samples\n",
      "Epoch 1/10\n",
      "23596/23596 [==============================] - 57s 2ms/step - loss: 0.7373 - accuracy: 0.5375 - val_loss: 0.7114 - val_accuracy: 0.4809\n",
      "Epoch 2/10\n",
      "23596/23596 [==============================] - 66s 3ms/step - loss: 0.6849 - accuracy: 0.5741 - val_loss: 0.7093 - val_accuracy: 0.5278\n",
      "Epoch 3/10\n",
      "23596/23596 [==============================] - 70s 3ms/step - loss: 0.6678 - accuracy: 0.5957 - val_loss: 0.7256 - val_accuracy: 0.5683\n",
      "Epoch 4/10\n",
      "23596/23596 [==============================] - 76s 3ms/step - loss: 0.6587 - accuracy: 0.6098 - val_loss: 0.7124 - val_accuracy: 0.5454\n",
      "Epoch 5/10\n",
      "23596/23596 [==============================] - 73s 3ms/step - loss: 0.6470 - accuracy: 0.6225 - val_loss: 0.7255 - val_accuracy: 0.4962\n",
      "Epoch 6/10\n",
      "23596/23596 [==============================] - 77s 3ms/step - loss: 0.6426 - accuracy: 0.6281 - val_loss: 0.7133 - val_accuracy: 0.5477\n",
      "Epoch 7/10\n",
      "23596/23596 [==============================] - 73s 3ms/step - loss: 0.6339 - accuracy: 0.6432 - val_loss: 0.7176 - val_accuracy: 0.5481\n",
      "Epoch 8/10\n",
      "23596/23596 [==============================] - 66s 3ms/step - loss: 0.6285 - accuracy: 0.6453 - val_loss: 0.7154 - val_accuracy: 0.5420\n",
      "Epoch 9/10\n",
      "23596/23596 [==============================] - 65s 3ms/step - loss: 0.6239 - accuracy: 0.6523 - val_loss: 0.7165 - val_accuracy: 0.5324\n",
      "Epoch 10/10\n",
      "23596/23596 [==============================] - 64s 3ms/step - loss: 0.6209 - accuracy: 0.6557 - val_loss: 0.7331 - val_accuracy: 0.5477\n"
     ]
    }
   ],
   "source": [
    "model_train = model.fit(x=X_train, y=y_train, batch_size = 128, epochs = 10,\n",
    "                                  validation_split=0.1)"
   ]
  },
  {
   "cell_type": "code",
   "execution_count": 92,
   "metadata": {
    "colab": {
     "base_uri": "https://localhost:8080/",
     "height": 70
    },
    "colab_type": "code",
    "id": "-V9t8qckliGR",
    "outputId": "8fe18f5a-2039-4384-af0f-ef024ba40fe8"
   },
   "outputs": [
    {
     "name": "stdout",
     "output_type": "stream",
     "text": [
      "2914/2914 [==============================] - 2s 607us/step\n",
      "Total loss:  0.7201011433696288\n",
      "Test accuracy:  0.559711754322052\n"
     ]
    }
   ],
   "source": [
    "test_eval = model.evaluate(X_test, y_test, verbose = 1)\n",
    "print('Total loss: ', test_eval[0])\n",
    "print('Test accuracy: ', test_eval[1])"
   ]
  },
  {
   "cell_type": "code",
   "execution_count": 96,
   "metadata": {
    "colab": {},
    "colab_type": "code",
    "id": "5blrVjymrkRl"
   },
   "outputs": [],
   "source": [
    "dropout_model = Sequential()\n",
    "dropout_model.add(Conv2D(filters = 10, kernel_size = (1, 15), padding = \"same\", input_shape = sequence_encoded.shape[1::]))\n",
    "dropout_model.add(BatchNormalization(axis=-1))\n",
    "dropout_model.add(Activation(\"relu\"))\n",
    "dropout_model.add(Dropout(0.25))\n",
    "\n",
    "dropout_model.add(Conv2D(filters = 10, kernel_size = (1, 15), padding = \"same\", input_shape = sequence_encoded.shape[1::]))\n",
    "dropout_model.add(BatchNormalization(axis=-1))\n",
    "dropout_model.add(Activation(\"relu\"))\n",
    "dropout_model.add(Dropout(0.25))\n",
    "\n",
    "dropout_model.add(Conv2D(filters = 10, kernel_size = (1, 15), padding = \"same\", input_shape = sequence_encoded.shape[1::]))\n",
    "dropout_model.add(BatchNormalization(axis=-1))\n",
    "dropout_model.add(Activation(\"relu\"))\n",
    "dropout_model.add(Dropout(0.25))\n",
    "\n",
    "\n",
    "dropout_model.add(Conv2D(filters = 10, kernel_size = (1, 15), padding = \"same\", input_shape = sequence_encoded.shape[1::]))\n",
    "dropout_model.add(BatchNormalization(axis=-1))\n",
    "dropout_model.add(Activation(\"relu\"))\n",
    "dropout_model.add(Dropout(0.25))\n",
    "\n",
    "dropout_model.add(MaxPooling2D(pool_size = (1, 35)))\n",
    "\n",
    "dropout_model.add(Flatten())\n",
    "dropout_model.add(Dense(1))\n",
    "dropout_model.add(Activation('sigmoid'))"
   ]
  },
  {
   "cell_type": "code",
   "execution_count": 97,
   "metadata": {
    "colab": {},
    "colab_type": "code",
    "id": "87b4JbMwrkE6"
   },
   "outputs": [],
   "source": [
    "dropout_model.compile(optimizer='adam', loss='binary_crossentropy', metrics=['accuracy'])"
   ]
  },
  {
   "cell_type": "code",
   "execution_count": 98,
   "metadata": {
    "colab": {
     "base_uri": "https://localhost:8080/",
     "height": 746
    },
    "colab_type": "code",
    "id": "kBBHsxAiX3Kk",
    "outputId": "334f3d03-169f-4517-f219-23f9b947266b"
   },
   "outputs": [
    {
     "name": "stdout",
     "output_type": "stream",
     "text": [
      "Train on 23596 samples, validate on 2622 samples\n",
      "Epoch 1/10\n",
      "23596/23596 [==============================] - 73s 3ms/step - loss: 0.7949 - accuracy: 0.5270 - val_loss: 0.6863 - val_accuracy: 0.5492\n",
      "Epoch 2/10\n",
      "23596/23596 [==============================] - 76s 3ms/step - loss: 0.7480 - accuracy: 0.5326 - val_loss: 0.6885 - val_accuracy: 0.5427\n",
      "Epoch 3/10\n",
      "23596/23596 [==============================] - 80s 3ms/step - loss: 0.7329 - accuracy: 0.5325 - val_loss: 0.6836 - val_accuracy: 0.5625\n",
      "Epoch 4/10\n",
      "23596/23596 [==============================] - 83s 4ms/step - loss: 0.7134 - accuracy: 0.5450 - val_loss: 0.6846 - val_accuracy: 0.5751\n",
      "Epoch 5/10\n",
      "23596/23596 [==============================] - 81s 3ms/step - loss: 0.6964 - accuracy: 0.5559 - val_loss: 0.6847 - val_accuracy: 0.5675\n",
      "Epoch 6/10\n",
      "23596/23596 [==============================] - 80s 3ms/step - loss: 0.6863 - accuracy: 0.5713 - val_loss: 0.6817 - val_accuracy: 0.5732\n",
      "Epoch 7/10\n",
      "23596/23596 [==============================] - 80s 3ms/step - loss: 0.6828 - accuracy: 0.5773 - val_loss: 0.6819 - val_accuracy: 0.5755\n",
      "Epoch 8/10\n",
      "23596/23596 [==============================] - 78s 3ms/step - loss: 0.6810 - accuracy: 0.5828 - val_loss: 0.6823 - val_accuracy: 0.5789\n",
      "Epoch 9/10\n",
      "23596/23596 [==============================] - 90s 4ms/step - loss: 0.6811 - accuracy: 0.5817 - val_loss: 0.6822 - val_accuracy: 0.5828\n",
      "Epoch 10/10\n",
      "23596/23596 [==============================] - 82s 3ms/step - loss: 0.6808 - accuracy: 0.5834 - val_loss: 0.6811 - val_accuracy: 0.5824\n"
     ]
    }
   ],
   "source": [
    "train = dropout_model.fit(x=X_train, y=y_train, batch_size = 128, epochs = 10, validation_split=0.1)"
   ]
  },
  {
   "cell_type": "code",
   "execution_count": 100,
   "metadata": {
    "colab": {
     "base_uri": "https://localhost:8080/",
     "height": 70
    },
    "colab_type": "code",
    "id": "FaEcHPX4l2FQ",
    "outputId": "8b2006a8-a493-4312-cf60-fd276c2b3bae"
   },
   "outputs": [
    {
     "name": "stdout",
     "output_type": "stream",
     "text": [
      "2914/2914 [==============================] - 2s 730us/step\n",
      "Total loss:  0.6805954639766015\n",
      "Test accuracy:  0.5823610424995422\n"
     ]
    }
   ],
   "source": [
    "test_eval = dropout_model.evaluate(X_test, y_test, verbose = 1)\n",
    "print('Total loss: ', test_eval[0])\n",
    "print('Test accuracy: ', test_eval[1])"
   ]
  },
  {
   "cell_type": "code",
   "execution_count": 101,
   "metadata": {
    "colab": {},
    "colab_type": "code",
    "id": "EGTaUwdycSYB"
   },
   "outputs": [],
   "source": [
    "dropout_model = Sequential()\n",
    "dropout_model.add(Conv2D(filters = 15, kernel_size = (1, 10), padding = \"same\", input_shape = sequence_encoded.shape[1::]))\n",
    "dropout_model.add(BatchNormalization(axis=-1))\n",
    "dropout_model.add(Activation(\"relu\"))\n",
    "dropout_model.add(Dropout(0.25))\n",
    "\n",
    "dropout_model.add(Conv2D(filters = 15, kernel_size = (1, 10), padding = \"same\", input_shape = sequence_encoded.shape[1::]))\n",
    "dropout_model.add(BatchNormalization(axis=-1))\n",
    "dropout_model.add(Activation(\"relu\"))\n",
    "dropout_model.add(Dropout(0.25))\n",
    "\n",
    "dropout_model.add(Conv2D(filters = 15, kernel_size = (1, 10), padding = \"same\", input_shape = sequence_encoded.shape[1::]))\n",
    "dropout_model.add(BatchNormalization(axis=-1))\n",
    "dropout_model.add(Activation(\"relu\"))\n",
    "dropout_model.add(Dropout(0.25))\n",
    "\n",
    "\n",
    "dropout_model.add(Conv2D(filters = 15, kernel_size = (1, 10), padding = \"same\", input_shape = sequence_encoded.shape[1::]))\n",
    "dropout_model.add(BatchNormalization(axis=-1))\n",
    "dropout_model.add(Activation(\"relu\"))\n",
    "dropout_model.add(Dropout(0.25))\n",
    "\n",
    "dropout_model.add(MaxPooling2D(pool_size = (1, 35)))\n",
    "\n",
    "dropout_model.add(Flatten())\n",
    "dropout_model.add(Dense(1))\n",
    "dropout_model.add(Activation('sigmoid'))"
   ]
  },
  {
   "cell_type": "code",
   "execution_count": 102,
   "metadata": {
    "colab": {
     "base_uri": "https://localhost:8080/",
     "height": 746
    },
    "colab_type": "code",
    "id": "sEUgWgKfewf2",
    "outputId": "640eceed-1d80-4734-f2f4-fec64e2617c8"
   },
   "outputs": [
    {
     "name": "stdout",
     "output_type": "stream",
     "text": [
      "Train on 23596 samples, validate on 2622 samples\n",
      "Epoch 1/10\n",
      "23596/23596 [==============================] - 86s 4ms/step - loss: 0.7857 - accuracy: 0.5290 - val_loss: 0.6997 - val_accuracy: 0.4981\n",
      "Epoch 2/10\n",
      "23596/23596 [==============================] - 103s 4ms/step - loss: 0.7452 - accuracy: 0.5344 - val_loss: 0.6924 - val_accuracy: 0.5359\n",
      "Epoch 3/10\n",
      "23596/23596 [==============================] - 101s 4ms/step - loss: 0.7234 - accuracy: 0.5379 - val_loss: 0.6963 - val_accuracy: 0.5050\n",
      "Epoch 4/10\n",
      "23596/23596 [==============================] - 96s 4ms/step - loss: 0.6980 - accuracy: 0.5569 - val_loss: 0.6857 - val_accuracy: 0.5725\n",
      "Epoch 5/10\n",
      "23596/23596 [==============================] - 99s 4ms/step - loss: 0.6854 - accuracy: 0.5719 - val_loss: 0.6879 - val_accuracy: 0.5637\n",
      "Epoch 6/10\n",
      "23596/23596 [==============================] - 107s 5ms/step - loss: 0.6829 - accuracy: 0.5778 - val_loss: 0.6842 - val_accuracy: 0.5797\n",
      "Epoch 7/10\n",
      "23596/23596 [==============================] - 105s 4ms/step - loss: 0.6811 - accuracy: 0.5814 - val_loss: 0.6816 - val_accuracy: 0.5824\n",
      "Epoch 8/10\n",
      "23596/23596 [==============================] - 100s 4ms/step - loss: 0.6813 - accuracy: 0.5839 - val_loss: 0.6846 - val_accuracy: 0.5812\n",
      "Epoch 9/10\n",
      "23596/23596 [==============================] - 141s 6ms/step - loss: 0.6806 - accuracy: 0.5841 - val_loss: 0.6842 - val_accuracy: 0.5843\n",
      "Epoch 10/10\n",
      "23596/23596 [==============================] - 159s 7ms/step - loss: 0.6804 - accuracy: 0.5837 - val_loss: 0.6854 - val_accuracy: 0.5816\n"
     ]
    }
   ],
   "source": [
    "dropout_model.compile(optimizer='adam', loss='binary_crossentropy', metrics=['accuracy'])\n",
    "train = dropout_model.fit(x=X_train, y=y_train, batch_size = 128, epochs = 10,\n",
    "                                  validation_split=0.1)"
   ]
  },
  {
   "cell_type": "code",
   "execution_count": 103,
   "metadata": {
    "colab": {
     "base_uri": "https://localhost:8080/",
     "height": 70
    },
    "colab_type": "code",
    "id": "sp-16gP3hnKT",
    "outputId": "ca9a5a97-20fe-4834-f2d0-13a1e0a35617"
   },
   "outputs": [
    {
     "name": "stdout",
     "output_type": "stream",
     "text": [
      "2914/2914 [==============================] - 4s 1ms/step\n",
      "Total loss:  0.6842698735084612\n",
      "Test accuracy:  0.5813314914703369\n"
     ]
    }
   ],
   "source": [
    "test_eval = dropout_model.evaluate(X_test, y_test, verbose = 1)\n",
    "print('Total loss: ', test_eval[0])\n",
    "print('Test accuracy: ', test_eval[1])"
   ]
  },
  {
   "cell_type": "code",
   "execution_count": 0,
   "metadata": {
    "colab": {},
    "colab_type": "code",
    "id": "pg8Y58YEh7Z0"
   },
   "outputs": [],
   "source": [
    "!pip install dragonn>=0.2.7"
   ]
  },
  {
   "cell_type": "code",
   "execution_count": 99,
   "metadata": {
    "colab": {
     "base_uri": "https://localhost:8080/",
     "height": 279
    },
    "colab_type": "code",
    "id": "iubCRDmVe2iE",
    "outputId": "bf926c3d-73e9-4c92-e4fa-f56b4ab62c32"
   },
   "outputs": [
    {
     "data": {
      "image/png": "[encoded data removed]",
      "text/plain": [
       "<Figure size 720x288 with 1 Axes>"
      ]
     },
     "metadata": {
      "needs_background": "light",
      "tags": []
     },
     "output_type": "display_data"
    }
   ],
   "source": [
    "from dragonn.vis import *\n",
    "\n",
    "plot_learning_curve(train)\n"
   ]
  },
  {
   "cell_type": "code",
   "execution_count": 0,
   "metadata": {
    "colab": {},
    "colab_type": "code",
    "id": "Je4NgoxIhrWR"
   },
   "outputs": [],
   "source": []
  }
 ],
 "metadata": {
  "colab": {
   "collapsed_sections": [],
   "machine_shape": "hm",
   "name": "OneHotEncoding_Practice.ipynb",
   "provenance": []
  },
  "kernelspec": {
   "display_name": "Python 3",
   "language": "python",
   "name": "python3"
  },
  "language_info": {
   "codemirror_mode": {
    "name": "ipython",
    "version": 3
   },
   "file_extension": ".py",
   "mimetype": "text/x-python",
   "name": "python",
   "nbconvert_exporter": "python",
   "pygments_lexer": "ipython3",
   "version": "3.7.3"
  }
 },
 "nbformat": 4,
 "nbformat_minor": 1
}
